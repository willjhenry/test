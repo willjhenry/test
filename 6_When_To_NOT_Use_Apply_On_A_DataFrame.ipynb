{
 "cells": [
  {
   "cell_type": "markdown",
   "metadata": {},
   "source": [
    "# When To Not Use Apply On A DataFrame\n",
    "\n",
    "We just learned how, by using `.apply()`, we can apply any function to a groupby object.  The `.apply()` method can also be used on dataframes, to apply custom functions row-wise (and column-wise).\n",
    "\n",
    "However, if we can use built in methods of a dataframe, or use vector math (that is add/subtract/multiple/divide entire columns at once) we should. Apply is a last resort because it is the slowest.\n",
    "\n",
    "We will introduce some examples of using `.apply` below and then we will show how there are better ways."
   ]
  },
  {
   "cell_type": "markdown",
   "metadata": {},
   "source": [
    "<a name=introtoapply></a>\n",
    "# Introducing Apply For DataFrames\n",
    "\n",
    "The .apply() method we are going to learn about is exactly like the .apply() we learned about in our groupby notebook.  The only difference is that this is the method for dataframes instead of groupby objects.\n",
    "\n",
    "The docs are here: <https://pandas.pydata.org/pandas-docs/stable/generated/pandas.DataFrame.apply.html>\n",
    "\n",
    "We are going to go back to our baby boy name data for our first example. So, let's load the data!"
   ]
  },
  {
   "cell_type": "markdown",
   "metadata": {},
   "source": [
    "<a name=examplebabyname></a>\n",
    "# An Example Of Using .apply() On The Baby Boy Name Data:\n",
    "\n",
    "### We will see there is a better way to do this without using apply"
   ]
  },
  {
   "cell_type": "code",
   "execution_count": 1,
   "metadata": {},
   "outputs": [],
   "source": [
    "import pandas as pd\n",
    "import os\n",
    "\n",
    "filepath = os.path.join(os.getcwd(), 'data', 'Most_Popular_Baby_Boy_Names__1980-2013.csv')\n",
    "name_data = pd.read_csv(filepath)"
   ]
  },
  {
   "cell_type": "code",
   "execution_count": 3,
   "metadata": {},
   "outputs": [
    {
     "data": {
      "text/html": [
       "<div>\n",
       "<style scoped>\n",
       "    .dataframe tbody tr th:only-of-type {\n",
       "        vertical-align: middle;\n",
       "    }\n",
       "\n",
       "    .dataframe tbody tr th {\n",
       "        vertical-align: top;\n",
       "    }\n",
       "\n",
       "    .dataframe thead th {\n",
       "        text-align: right;\n",
       "    }\n",
       "</style>\n",
       "<table border=\"1\" class=\"dataframe\">\n",
       "  <thead>\n",
       "    <tr style=\"text-align: right;\">\n",
       "      <th></th>\n",
       "      <th>Rank</th>\n",
       "      <th>Year</th>\n",
       "      <th>Name</th>\n",
       "      <th>Frequency</th>\n",
       "    </tr>\n",
       "  </thead>\n",
       "  <tbody>\n",
       "    <tr>\n",
       "      <th>0</th>\n",
       "      <td>1</td>\n",
       "      <td>1980</td>\n",
       "      <td>Michael</td>\n",
       "      <td>3886</td>\n",
       "    </tr>\n",
       "    <tr>\n",
       "      <th>1</th>\n",
       "      <td>2</td>\n",
       "      <td>1980</td>\n",
       "      <td>Jason</td>\n",
       "      <td>2389</td>\n",
       "    </tr>\n",
       "    <tr>\n",
       "      <th>2</th>\n",
       "      <td>3</td>\n",
       "      <td>1980</td>\n",
       "      <td>Christopher</td>\n",
       "      <td>2273</td>\n",
       "    </tr>\n",
       "    <tr>\n",
       "      <th>3</th>\n",
       "      <td>4</td>\n",
       "      <td>1980</td>\n",
       "      <td>Matthew</td>\n",
       "      <td>2112</td>\n",
       "    </tr>\n",
       "    <tr>\n",
       "      <th>4</th>\n",
       "      <td>5</td>\n",
       "      <td>1980</td>\n",
       "      <td>David</td>\n",
       "      <td>2088</td>\n",
       "    </tr>\n",
       "  </tbody>\n",
       "</table>\n",
       "</div>"
      ],
      "text/plain": [
       "   Rank  Year         Name  Frequency\n",
       "0     1  1980      Michael       3886\n",
       "1     2  1980        Jason       2389\n",
       "2     3  1980  Christopher       2273\n",
       "3     4  1980      Matthew       2112\n",
       "4     5  1980        David       2088"
      ]
     },
     "execution_count": 3,
     "metadata": {},
     "output_type": "execute_result"
    }
   ],
   "source": [
    "name_data.head()"
   ]
  },
  {
   "cell_type": "markdown",
   "metadata": {},
   "source": [
    "### Let's take a look at these name values - we will use .unique() to do so:"
   ]
  },
  {
   "cell_type": "code",
   "execution_count": 4,
   "metadata": {},
   "outputs": [
    {
     "data": {
      "text/plain": [
       "array(['Michael', 'Jason', 'Christopher', 'Matthew', 'David', 'James',\n",
       "       'Robert', 'Daniel', 'John', 'Joseph', 'Brian', 'Joshua', 'Ryan',\n",
       "       'Nicholas', 'Eric', 'Justin', 'Timothy', 'William', 'Anthony',\n",
       "       'Andrew', 'Adam', 'Thomas', 'Kevin', 'Steven', 'Jeremy',\n",
       "       'Jonathan', 'Brandon', 'Kyle', 'Jospeh', 'Jonathon', 'Jacob',\n",
       "       'Zachary', 'Alexander', 'Tyler', 'Austin', 'Dylan', 'Benjamin',\n",
       "       'Ethan', 'Christian', 'Samuel', 'Zachery', 'Nathan', 'Jack',\n",
       "       'DANIEL', 'JACOB', 'MICHAEL', 'ALEXANDER', 'JOSHUA', 'ANTHONY',\n",
       "       'MATTHEW', 'JOSEPH', 'ETHAN', 'ANDREW', 'RYAN', 'CHRISTOPHER',\n",
       "       'NICHOLAS', 'DAVID', 'WILLIAM', 'NATHAN', 'JOHN', 'BENJAMIN',\n",
       "       'JAMES', 'TYLER', 'LOGAN', 'JACK', 'NOAH', 'JONATHAN', 'ANGEL',\n",
       "       'CHRISTIAN', 'JAYDEN', 'AIDEN', 'JACKSON', 'MASON', 'LUCAS',\n",
       "       'LIAM', 'GABRIEL', 'ELIJAH', 'HENRY'], dtype=object)"
      ]
     },
     "execution_count": 4,
     "metadata": {},
     "output_type": "execute_result"
    }
   ],
   "source": [
    "name_data['Name'].unique()"
   ]
  },
  {
   "cell_type": "markdown",
   "metadata": {},
   "source": [
    "### Most likely, we don't want Michael and MICHAEL to count as two different names - let's fix that using `.apply()`, lambda, and `.lower()` to fix this problem!\n",
    "\n",
    "The basic idea here is want to lower case all of the names, this way all the 'Michael's will be changed to 'michael' and the 'MICHAEL's will be changed to 'michael'. Now every Michael will be counted as the same name! We can lower case string using the .lower() method, let's review this below."
   ]
  },
  {
   "cell_type": "markdown",
   "metadata": {},
   "source": [
    "#### A quick review of the lower method:"
   ]
  },
  {
   "cell_type": "code",
   "execution_count": 5,
   "metadata": {},
   "outputs": [
    {
     "name": "stdout",
     "output_type": "stream",
     "text": [
      "michael\n"
     ]
    }
   ],
   "source": [
    "name = 'MICHAEL'\n",
    "print(name.lower())"
   ]
  },
  {
   "cell_type": "markdown",
   "metadata": {},
   "source": [
    "### Now, let's use `.apply()` to _apply_ the `.lower()` method to the all the names in the 'Names' column\n",
    "We have to wrap it in a _lambda_ function though! We can only pass _functions_ to the apply() method, we can not pass other methods. \n",
    "\n",
    "As a review, let's first write function that will convert a string to lower case."
   ]
  },
  {
   "cell_type": "code",
   "execution_count": 6,
   "metadata": {},
   "outputs": [
    {
     "data": {
      "text/plain": [
       "'michael'"
      ]
     },
     "execution_count": 6,
     "metadata": {},
     "output_type": "execute_result"
    }
   ],
   "source": [
    "def lower_string(my_string):\n",
    "    return my_string.lower()\n",
    "\n",
    "lower_string('MICHAEL')"
   ]
  },
  {
   "cell_type": "markdown",
   "metadata": {},
   "source": [
    "### Let's now apply this function to the entire column of names"
   ]
  },
  {
   "cell_type": "code",
   "execution_count": 7,
   "metadata": {
    "run_control": {
     "marked": false
    },
    "scrolled": true
   },
   "outputs": [
    {
     "data": {
      "text/plain": [
       "0          michael\n",
       "1            jason\n",
       "2      christopher\n",
       "3          matthew\n",
       "4            david\n",
       "          ...     \n",
       "845         nathan\n",
       "846         andrew\n",
       "847          henry\n",
       "848          david\n",
       "849           jack\n",
       "Name: Name, Length: 850, dtype: object"
      ]
     },
     "execution_count": 7,
     "metadata": {},
     "output_type": "execute_result"
    }
   ],
   "source": [
    "name_data['Name'].apply(lower_string)"
   ]
  },
  {
   "cell_type": "markdown",
   "metadata": {},
   "source": [
    "### We can also use lambda function:"
   ]
  },
  {
   "cell_type": "code",
   "execution_count": 8,
   "metadata": {
    "scrolled": true
   },
   "outputs": [
    {
     "data": {
      "text/plain": [
       "0          michael\n",
       "1            jason\n",
       "2      christopher\n",
       "3          matthew\n",
       "4            david\n",
       "          ...     \n",
       "845         nathan\n",
       "846         andrew\n",
       "847          henry\n",
       "848          david\n",
       "849           jack\n",
       "Name: Name, Length: 850, dtype: object"
      ]
     },
     "execution_count": 8,
     "metadata": {},
     "output_type": "execute_result"
    }
   ],
   "source": [
    "name_data['Name'].apply(lambda x: x.lower())"
   ]
  },
  {
   "cell_type": "markdown",
   "metadata": {},
   "source": [
    "## Using `%%timeit` to Measure the Speed of Our Code\n",
    "\n",
    "We can use the `%%timeit` magic command. This is a special command that exists in Jupyter and IPython only. More magic commands can be found here: https://ipython.readthedocs.io/en/stable/interactive/magics.html"
   ]
  },
  {
   "cell_type": "code",
   "execution_count": 9,
   "metadata": {},
   "outputs": [
    {
     "name": "stdout",
     "output_type": "stream",
     "text": [
      "344 µs ± 15 µs per loop (mean ± std. dev. of 7 runs, 1000 loops each)\n"
     ]
    }
   ],
   "source": [
    "%%timeit\n",
    "lower_case_names = name_data['Name'].apply(lambda x: x.lower())"
   ]
  },
  {
   "cell_type": "markdown",
   "metadata": {},
   "source": [
    "## A Better Way Than using `.apply()` (Less Code, and Faster):\n",
    "We can access the string properties of a column with strings in it by using the `str` attribute (very similar to how we accessed the datetime properties using a `dt` attribute. We can then caller the `lower()` method from the `str` attribute."
   ]
  },
  {
   "cell_type": "code",
   "execution_count": 10,
   "metadata": {},
   "outputs": [
    {
     "name": "stdout",
     "output_type": "stream",
     "text": [
      "288 µs ± 16.5 µs per loop (mean ± std. dev. of 7 runs, 1000 loops each)\n"
     ]
    }
   ],
   "source": [
    "%%timeit\n",
    "lower_case_names = name_data['Name'].str.lower()"
   ]
  },
  {
   "cell_type": "markdown",
   "metadata": {},
   "source": [
    "<a name=examplelaborsheet></a>\n",
    "# Another Example On Our Labor Sheet Data"
   ]
  },
  {
   "cell_type": "code",
   "execution_count": 11,
   "metadata": {},
   "outputs": [
    {
     "data": {
      "text/html": [
       "<div>\n",
       "<style scoped>\n",
       "    .dataframe tbody tr th:only-of-type {\n",
       "        vertical-align: middle;\n",
       "    }\n",
       "\n",
       "    .dataframe tbody tr th {\n",
       "        vertical-align: top;\n",
       "    }\n",
       "\n",
       "    .dataframe thead th {\n",
       "        text-align: right;\n",
       "    }\n",
       "</style>\n",
       "<table border=\"1\" class=\"dataframe\">\n",
       "  <thead>\n",
       "    <tr style=\"text-align: right;\">\n",
       "      <th></th>\n",
       "      <th>Date_Ending_Hour</th>\n",
       "      <th>Store_ID</th>\n",
       "      <th>Manager</th>\n",
       "      <th>Projected_Sales</th>\n",
       "      <th>Sales</th>\n",
       "      <th>DT_TTL</th>\n",
       "      <th>Car_Count</th>\n",
       "      <th>KVS_Total</th>\n",
       "      <th>Scheduled_People</th>\n",
       "      <th>Actual_People</th>\n",
       "      <th>Reason_for_Labor_Diff</th>\n",
       "      <th>Reason_for_High_TTLs</th>\n",
       "      <th>Manager_Entering_Data</th>\n",
       "      <th>Timestamp</th>\n",
       "      <th>OEPE</th>\n",
       "      <th>Park_Percentage</th>\n",
       "    </tr>\n",
       "  </thead>\n",
       "  <tbody>\n",
       "    <tr>\n",
       "      <th>0</th>\n",
       "      <td>2017-01-23 08:00:00</td>\n",
       "      <td>4462</td>\n",
       "      <td>JillianA</td>\n",
       "      <td>540.0</td>\n",
       "      <td>420.0</td>\n",
       "      <td>170.0</td>\n",
       "      <td>NaN</td>\n",
       "      <td>100.0</td>\n",
       "      <td>NaN</td>\n",
       "      <td>NaN</td>\n",
       "      <td>NaN</td>\n",
       "      <td>NaN</td>\n",
       "      <td>NaN</td>\n",
       "      <td>2017-01-23 09:52:14</td>\n",
       "      <td>NaN</td>\n",
       "      <td>NaN</td>\n",
       "    </tr>\n",
       "    <tr>\n",
       "      <th>1</th>\n",
       "      <td>2017-02-05 06:00:00</td>\n",
       "      <td>4462</td>\n",
       "      <td>ZoeyD</td>\n",
       "      <td>90.0</td>\n",
       "      <td>155.0</td>\n",
       "      <td>114.0</td>\n",
       "      <td>NaN</td>\n",
       "      <td>78.0</td>\n",
       "      <td>NaN</td>\n",
       "      <td>NaN</td>\n",
       "      <td>NaN</td>\n",
       "      <td>NaN</td>\n",
       "      <td>NaN</td>\n",
       "      <td>2017-02-05 11:30:48</td>\n",
       "      <td>NaN</td>\n",
       "      <td>NaN</td>\n",
       "    </tr>\n",
       "    <tr>\n",
       "      <th>2</th>\n",
       "      <td>2017-02-05 07:00:00</td>\n",
       "      <td>4462</td>\n",
       "      <td>JessicaB</td>\n",
       "      <td>173.0</td>\n",
       "      <td>182.0</td>\n",
       "      <td>106.0</td>\n",
       "      <td>NaN</td>\n",
       "      <td>81.0</td>\n",
       "      <td>NaN</td>\n",
       "      <td>NaN</td>\n",
       "      <td>NaN</td>\n",
       "      <td>NaN</td>\n",
       "      <td>NaN</td>\n",
       "      <td>2017-02-05 11:35:48</td>\n",
       "      <td>NaN</td>\n",
       "      <td>NaN</td>\n",
       "    </tr>\n",
       "    <tr>\n",
       "      <th>3</th>\n",
       "      <td>2017-02-05 08:00:00</td>\n",
       "      <td>4462</td>\n",
       "      <td>JessicaB</td>\n",
       "      <td>333.0</td>\n",
       "      <td>311.0</td>\n",
       "      <td>102.0</td>\n",
       "      <td>NaN</td>\n",
       "      <td>55.0</td>\n",
       "      <td>NaN</td>\n",
       "      <td>NaN</td>\n",
       "      <td>NaN</td>\n",
       "      <td>NaN</td>\n",
       "      <td>NaN</td>\n",
       "      <td>2017-02-05 11:52:05</td>\n",
       "      <td>NaN</td>\n",
       "      <td>NaN</td>\n",
       "    </tr>\n",
       "    <tr>\n",
       "      <th>4</th>\n",
       "      <td>2017-02-05 09:00:00</td>\n",
       "      <td>4462</td>\n",
       "      <td>JessicaB</td>\n",
       "      <td>594.0</td>\n",
       "      <td>598.0</td>\n",
       "      <td>155.0</td>\n",
       "      <td>NaN</td>\n",
       "      <td>106.0</td>\n",
       "      <td>NaN</td>\n",
       "      <td>NaN</td>\n",
       "      <td>NaN</td>\n",
       "      <td>NaN</td>\n",
       "      <td>NaN</td>\n",
       "      <td>2017-02-05 11:59:35</td>\n",
       "      <td>NaN</td>\n",
       "      <td>NaN</td>\n",
       "    </tr>\n",
       "  </tbody>\n",
       "</table>\n",
       "</div>"
      ],
      "text/plain": [
       "     Date_Ending_Hour  Store_ID   Manager  Projected_Sales  Sales  DT_TTL  \\\n",
       "0 2017-01-23 08:00:00      4462  JillianA            540.0  420.0   170.0   \n",
       "1 2017-02-05 06:00:00      4462     ZoeyD             90.0  155.0   114.0   \n",
       "2 2017-02-05 07:00:00      4462  JessicaB            173.0  182.0   106.0   \n",
       "3 2017-02-05 08:00:00      4462  JessicaB            333.0  311.0   102.0   \n",
       "4 2017-02-05 09:00:00      4462  JessicaB            594.0  598.0   155.0   \n",
       "\n",
       "   Car_Count  KVS_Total  Scheduled_People  Actual_People  \\\n",
       "0        NaN      100.0               NaN            NaN   \n",
       "1        NaN       78.0               NaN            NaN   \n",
       "2        NaN       81.0               NaN            NaN   \n",
       "3        NaN       55.0               NaN            NaN   \n",
       "4        NaN      106.0               NaN            NaN   \n",
       "\n",
       "  Reason_for_Labor_Diff Reason_for_High_TTLs Manager_Entering_Data  \\\n",
       "0                   NaN                  NaN                   NaN   \n",
       "1                   NaN                  NaN                   NaN   \n",
       "2                   NaN                  NaN                   NaN   \n",
       "3                   NaN                  NaN                   NaN   \n",
       "4                   NaN                  NaN                   NaN   \n",
       "\n",
       "            Timestamp  OEPE  Park_Percentage  \n",
       "0 2017-01-23 09:52:14   NaN              NaN  \n",
       "1 2017-02-05 11:30:48   NaN              NaN  \n",
       "2 2017-02-05 11:35:48   NaN              NaN  \n",
       "3 2017-02-05 11:52:05   NaN              NaN  \n",
       "4 2017-02-05 11:59:35   NaN              NaN  "
      ]
     },
     "execution_count": 11,
     "metadata": {},
     "output_type": "execute_result"
    }
   ],
   "source": [
    "filepath = os.path.join(os.getcwd(), 'data', 'ShiftManagerApp_LaborSheet.csv')\n",
    "\n",
    "labor_sheet_data = pd.read_csv(filepath, parse_dates=[['Date', 'Ending_Hour'], 'Timestamp'])\n",
    "labor_sheet_data.head()"
   ]
  },
  {
   "cell_type": "markdown",
   "metadata": {},
   "source": [
    "## We Want To Calculate A Simple Score For Each Hour\n",
    "\n",
    "The formula for this score will be:\n",
    "\n",
    "`(Sales - Projected_Sales)/100 - ((Scheduled_People + (Sales - Projected_Sales)/50) - Actual_People) - (Timestamp - Date_Ending_Hour)/15`\n",
    "\n",
    "Let's calculate this score using `apply()` and then again using vector math."
   ]
  },
  {
   "cell_type": "code",
   "execution_count": 12,
   "metadata": {},
   "outputs": [],
   "source": [
    "def hour_score(x):\n",
    "    score = (x['Sales'] - x['Projected_Sales'])/100 - \\\n",
    "    (x[\"Scheduled_People\"] + (x['Sales'] - x['Projected_Sales'])/50) - \\\n",
    "    (x[\"Timestamp\"] - x['Date_Ending_Hour']).total_seconds()/(60*15)\n",
    "    return score"
   ]
  },
  {
   "cell_type": "markdown",
   "metadata": {},
   "source": [
    "### Now, let's `%%timeit`"
   ]
  },
  {
   "cell_type": "code",
   "execution_count": 13,
   "metadata": {},
   "outputs": [
    {
     "name": "stdout",
     "output_type": "stream",
     "text": [
      "1.84 s ± 21.8 ms per loop (mean ± std. dev. of 7 runs, 1 loop each)\n"
     ]
    }
   ],
   "source": [
    "%%timeit\n",
    "labor_sheet_data.apply(hour_score, axis=1)"
   ]
  },
  {
   "cell_type": "markdown",
   "metadata": {},
   "source": [
    "# Now, let's time a better implementation"
   ]
  },
  {
   "cell_type": "code",
   "execution_count": 14,
   "metadata": {},
   "outputs": [
    {
     "name": "stdout",
     "output_type": "stream",
     "text": [
      "3.1 ms ± 354 µs per loop (mean ± std. dev. of 7 runs, 100 loops each)\n"
     ]
    }
   ],
   "source": [
    "%%timeit\n",
    "(labor_sheet_data['Sales'] - labor_sheet_data['Projected_Sales'])/100 - \\\n",
    "    (labor_sheet_data[\"Scheduled_People\"] + (labor_sheet_data['Sales'] - labor_sheet_data['Projected_Sales'])/50) - \\\n",
    "    (labor_sheet_data[\"Timestamp\"] - labor_sheet_data['Date_Ending_Hour']).dt.total_seconds()/(60*15)"
   ]
  },
  {
   "cell_type": "markdown",
   "metadata": {},
   "source": [
    "# The Lesson Is - Always Write Data Transformation Formulas As \"Column Math\" If You Can"
   ]
  },
  {
   "cell_type": "markdown",
   "metadata": {},
   "source": [
    "# In Class Exercise\n",
    "Please create a cell below and use apply to manipulate the data in the labor_sheet_data DataFrame. Try to compare an apply method to a non-apply method."
   ]
  },
  {
   "cell_type": "code",
   "execution_count": null,
   "metadata": {},
   "outputs": [],
   "source": []
  },
  {
   "cell_type": "markdown",
   "metadata": {},
   "source": [
    "## Question or Comments About This Notebook?\n",
    "Feel free to contact me via my LinkedIn: https://www.linkedin.com/in/william-j-henry <br>\n",
    "You can also email me at will@henryanalytics.com <br>"
   ]
  }
 ],
 "metadata": {
  "hide_input": false,
  "kernelspec": {
   "display_name": "Python 3",
   "language": "python",
   "name": "python3"
  },
  "language_info": {
   "codemirror_mode": {
    "name": "ipython",
    "version": 3
   },
   "file_extension": ".py",
   "mimetype": "text/x-python",
   "name": "python",
   "nbconvert_exporter": "python",
   "pygments_lexer": "ipython3",
   "version": "3.6.6"
  }
 },
 "nbformat": 4,
 "nbformat_minor": 2
}
