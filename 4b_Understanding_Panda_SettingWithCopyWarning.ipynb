{
 "cells": [
  {
   "cell_type": "markdown",
   "metadata": {},
   "source": [
    "# Understanding Panda's \"SettingWithCopyWarning\"\n",
    "\n",
    "In this notebook we will talk about a common warning that Pandas will give you, which can sometimes be confusing.  We explain it here so that you will not only understand the warning but also avoid what it is trying to warn you about.\n"
   ]
  },
  {
   "cell_type": "markdown",
   "metadata": {},
   "source": [
    "# How to use this Notebook\n",
    "\n",
    "The best way to use this notebook is to follow along with the lecture and then to apply what you learn to your own data files, or (if you do not have any of your own data) to practice using this functions and methods on the provided data. A little practice goes a long way towards understand and retaining! It would be easy to just skim this notebook, but you will learn more by doing!"
   ]
  },
  {
   "cell_type": "markdown",
   "metadata": {},
   "source": [
    "# A Motivating Example:"
   ]
  },
  {
   "cell_type": "code",
   "execution_count": 1,
   "metadata": {},
   "outputs": [
    {
     "data": {
      "text/html": [
       "<div>\n",
       "<style scoped>\n",
       "    .dataframe tbody tr th:only-of-type {\n",
       "        vertical-align: middle;\n",
       "    }\n",
       "\n",
       "    .dataframe tbody tr th {\n",
       "        vertical-align: top;\n",
       "    }\n",
       "\n",
       "    .dataframe thead th {\n",
       "        text-align: right;\n",
       "    }\n",
       "</style>\n",
       "<table border=\"1\" class=\"dataframe\">\n",
       "  <thead>\n",
       "    <tr style=\"text-align: right;\">\n",
       "      <th></th>\n",
       "      <th>Date_Ending_Hour</th>\n",
       "      <th>Store_ID</th>\n",
       "      <th>Manager</th>\n",
       "      <th>Projected_Sales</th>\n",
       "      <th>Sales</th>\n",
       "      <th>DT_TTL</th>\n",
       "      <th>Car_Count</th>\n",
       "      <th>KVS_Total</th>\n",
       "      <th>Scheduled_People</th>\n",
       "      <th>Actual_People</th>\n",
       "      <th>Reason_for_Labor_Diff</th>\n",
       "      <th>Reason_for_High_TTLs</th>\n",
       "      <th>Manager_Entering_Data</th>\n",
       "      <th>Timestamp</th>\n",
       "      <th>OEPE</th>\n",
       "      <th>Park_Percentage</th>\n",
       "    </tr>\n",
       "  </thead>\n",
       "  <tbody>\n",
       "    <tr>\n",
       "      <th>0</th>\n",
       "      <td>2017-01-23 08:00:00</td>\n",
       "      <td>4462</td>\n",
       "      <td>JillianA</td>\n",
       "      <td>540.0</td>\n",
       "      <td>420.0</td>\n",
       "      <td>170.0</td>\n",
       "      <td>NaN</td>\n",
       "      <td>100.0</td>\n",
       "      <td>NaN</td>\n",
       "      <td>NaN</td>\n",
       "      <td>NaN</td>\n",
       "      <td>NaN</td>\n",
       "      <td>NaN</td>\n",
       "      <td>2017-01-23 09:52:14</td>\n",
       "      <td>NaN</td>\n",
       "      <td>NaN</td>\n",
       "    </tr>\n",
       "  </tbody>\n",
       "</table>\n",
       "</div>"
      ],
      "text/plain": [
       "     Date_Ending_Hour  Store_ID   Manager  Projected_Sales  Sales  DT_TTL  \\\n",
       "0 2017-01-23 08:00:00      4462  JillianA            540.0  420.0   170.0   \n",
       "\n",
       "   Car_Count  KVS_Total  Scheduled_People  Actual_People  \\\n",
       "0        NaN      100.0               NaN            NaN   \n",
       "\n",
       "  Reason_for_Labor_Diff Reason_for_High_TTLs Manager_Entering_Data  \\\n",
       "0                   NaN                  NaN                   NaN   \n",
       "\n",
       "            Timestamp  OEPE  Park_Percentage  \n",
       "0 2017-01-23 09:52:14   NaN              NaN  "
      ]
     },
     "execution_count": 1,
     "metadata": {},
     "output_type": "execute_result"
    }
   ],
   "source": [
    "# In this cell we import pandas and load the datafile.\n",
    "import pandas as pd\n",
    "import os\n",
    "\n",
    "filepath = os.path.join(os.getcwd(), 'data', 'ShiftManagerApp_LaborSheet.csv')\n",
    "labor_sheet_data = pd.read_csv(filepath, parse_dates=[['Date', 'Ending_Hour'], 'Timestamp'])\n",
    "labor_sheet_data.head(1)"
   ]
  },
  {
   "cell_type": "code",
   "execution_count": 2,
   "metadata": {},
   "outputs": [
    {
     "name": "stderr",
     "output_type": "stream",
     "text": [
      "/Users/williamhenry/anaconda/envs/UCI_python3/lib/python3.6/site-packages/ipykernel_launcher.py:2: SettingWithCopyWarning: \n",
      "A value is trying to be set on a copy of a slice from a DataFrame.\n",
      "Try using .loc[row_indexer,col_indexer] = value instead\n",
      "\n",
      "See the caveats in the documentation: http://pandas.pydata.org/pandas-docs/stable/user_guide/indexing.html#returning-a-view-versus-a-copy\n",
      "  \n"
     ]
    }
   ],
   "source": [
    "store_4462 = labor_sheet_data.loc[labor_sheet_data[\"Store_ID\"]==4462, :]\n",
    "store_4462[\"Sales\"] = store_4462[\"Sales\"] + 100"
   ]
  },
  {
   "cell_type": "markdown",
   "metadata": {},
   "source": [
    "# Why Did We Get This Warning?\n",
    "\n",
    "It is unclear if `store_4462` is a _view_ of `labor_sheet_data` or a _copy_. We can't know, this is determined under the hood by the memory layout of the data. Pandas does not know if we wanted to update the original values in `labor_sheet_data` or if we actually wanted to create a copy, in `store_4462`, and update the values in the copy."
   ]
  },
  {
   "cell_type": "markdown",
   "metadata": {},
   "source": [
    "### The example above is equivalent to what we see below:\n",
    "\n",
    "See how we use `.loc[]` and then we use `[]` to access Sales. Using the `[]` after using another indexing method is called chained indexing and is a big no no in pandas for the reason explained above!  Note that the issue us not the combination of `loc` and `[]`, but it is the extra "
   ]
  },
  {
   "cell_type": "code",
   "execution_count": 3,
   "metadata": {},
   "outputs": [
    {
     "name": "stderr",
     "output_type": "stream",
     "text": [
      "/Users/williamhenry/anaconda/envs/UCI_python3/lib/python3.6/site-packages/ipykernel_launcher.py:1: SettingWithCopyWarning: \n",
      "A value is trying to be set on a copy of a slice from a DataFrame.\n",
      "Try using .loc[row_indexer,col_indexer] = value instead\n",
      "\n",
      "See the caveats in the documentation: http://pandas.pydata.org/pandas-docs/stable/user_guide/indexing.html#returning-a-view-versus-a-copy\n",
      "  \"\"\"Entry point for launching an IPython kernel.\n"
     ]
    }
   ],
   "source": [
    "labor_sheet_data.loc[labor_sheet_data[\"Store_ID\"]==4462, :][\"Sales\"] = \\\n",
    "    labor_sheet_data.loc[labor_sheet_data[\"Store_ID\"]==4462, :][\"Sales\"] + 100"
   ]
  },
  {
   "cell_type": "markdown",
   "metadata": {},
   "source": [
    "# What You Should Do:"
   ]
  },
  {
   "cell_type": "markdown",
   "metadata": {},
   "source": [
    "## If You Want to Copy of a Dataframe Because You Plan on Updating the Data Independent of the Original, Be Explicit and Use the Copy() Method"
   ]
  },
  {
   "cell_type": "code",
   "execution_count": 4,
   "metadata": {},
   "outputs": [],
   "source": [
    "store_4462 = labor_sheet_data.loc[labor_sheet_data[\"Store_ID\"]==4462, :].copy()\n",
    "store_4462[\"Sales\"] = store_4462[\"Sales\"] + 100"
   ]
  },
  {
   "cell_type": "markdown",
   "metadata": {},
   "source": [
    "## If You Want to Update the Values in the Original Dataframe, Put All Indexing into One `.Loc[]` Call:"
   ]
  },
  {
   "cell_type": "code",
   "execution_count": 5,
   "metadata": {},
   "outputs": [],
   "source": [
    "labor_sheet_data.loc[labor_sheet_data[\"Store_ID\"]==4462, \"Sales\"] = \\\n",
    "    labor_sheet_data.loc[labor_sheet_data[\"Store_ID\"]==4462, \"Sales\"] + 100"
   ]
  },
  {
   "cell_type": "markdown",
   "metadata": {},
   "source": [
    "# Lesson Summary:\n",
    "In this lesson you learned:\n",
    "* What the SettingWithCopyWarning is.\n",
    "* How to avoid this warning and also avoid data manipulations mistakes."
   ]
  },
  {
   "cell_type": "markdown",
   "metadata": {},
   "source": [
    "## Question or Comments About This Notebook?\n",
    "Feel free to contact me via my LinkedIn: https://www.linkedin.com/in/william-j-henry <br>\n",
    "You can also email me at will@henryanalytics.com <br>"
   ]
  }
 ],
 "metadata": {
  "hide_input": false,
  "kernelspec": {
   "display_name": "Python 3",
   "language": "python",
   "name": "python3"
  },
  "language_info": {
   "codemirror_mode": {
    "name": "ipython",
    "version": 3
   },
   "file_extension": ".py",
   "mimetype": "text/x-python",
   "name": "python",
   "nbconvert_exporter": "python",
   "pygments_lexer": "ipython3",
   "version": "3.6.6"
  }
 },
 "nbformat": 4,
 "nbformat_minor": 2
}
