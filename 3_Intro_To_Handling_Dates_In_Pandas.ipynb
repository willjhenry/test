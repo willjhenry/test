{
 "cells": [
  {
   "cell_type": "markdown",
   "metadata": {},
   "source": [
    "# Intro To Handling Dates In Pandas\n",
    "Properly handling dates in Pandas can be very useful.  For example, let's say you read in a csv of temperature data with dates and you'd like to find the monthly mean temperature.  If the date column is already recognized, by pandas, as a date type, then extracting the month from the column will be very easy.  If the date column is, instead, read in as a string type, then it will be more difficult to extract the month.\n",
    "\n",
    "## Notebook Outline\n",
    "* <a href='#parsedates'>Using the parse dates .read_csv() to automatically read in dateformats</a>\n",
    "* <a href='#todatetime'>Using .to_datetime() to convert a column to a pandas datetime format</a>\n",
    "* <a href='#dtattribute'>Using .dt on datetime columns</a>\n",
    "* <a href='#minmaxsum'>Introduction the .min(), .max() and .sum() methods</a>\n",
    "* <a href=#timezone>Setting and changing timezones</a>\n",
    "* <a href=#date_range>Creating ranges of dates</a>"
   ]
  },
  {
   "cell_type": "code",
   "execution_count": 1,
   "metadata": {},
   "outputs": [],
   "source": [
    "import pandas as pd\n",
    "import os"
   ]
  },
  {
   "cell_type": "markdown",
   "metadata": {},
   "source": [
    "<a name=parsedates></a>\n",
    "\n",
    "# Automatically Read in Dates as Datetime Types with Pandas\n",
    "\n",
    "When reading in a file, we can specify which columns, or which combinations of columns, we would like read in as a datetime type. We do this by defining the `parse_dates` argument when using the `read_csv()` method."
   ]
  },
  {
   "cell_type": "markdown",
   "metadata": {},
   "source": [
    "## Example 1: Quick Service Restaurant Data\n",
    "\n",
    "For this example, I am going to introduce a new data file 'LaborSheetData.csv'. This file contains real data from a very popular fast food store. Every hour, the shift manager must enter some key data in this file, like drive through times and sales for the past hour. This will be a good dataset for us to explore in some of our lectures.\n",
    "\n",
    "First we will load the data. Remember that you will need to change the path to point to where you place the file on your computer, after you download it."
   ]
  },
  {
   "cell_type": "code",
   "execution_count": 2,
   "metadata": {},
   "outputs": [],
   "source": [
    "filepath = os.path.join(os.getcwd(), 'data', 'ShiftManagerApp_LaborSheet.csv')\n",
    "laborSheetData = pd.read_csv(filepath)"
   ]
  },
  {
   "cell_type": "markdown",
   "metadata": {},
   "source": [
    "### First, let's look at the data using the `.head()` and `.info()` methods.\n",
    "\n",
    "Exercise: complete the two cells below to use the `.head()` and `.info()` methods."
   ]
  },
  {
   "cell_type": "code",
   "execution_count": 3,
   "metadata": {},
   "outputs": [
    {
     "data": {
      "text/html": [
       "<div>\n",
       "<style scoped>\n",
       "    .dataframe tbody tr th:only-of-type {\n",
       "        vertical-align: middle;\n",
       "    }\n",
       "\n",
       "    .dataframe tbody tr th {\n",
       "        vertical-align: top;\n",
       "    }\n",
       "\n",
       "    .dataframe thead th {\n",
       "        text-align: right;\n",
       "    }\n",
       "</style>\n",
       "<table border=\"1\" class=\"dataframe\">\n",
       "  <thead>\n",
       "    <tr style=\"text-align: right;\">\n",
       "      <th></th>\n",
       "      <th>Store_ID</th>\n",
       "      <th>Manager</th>\n",
       "      <th>Date</th>\n",
       "      <th>Ending_Hour</th>\n",
       "      <th>Projected_Sales</th>\n",
       "      <th>Sales</th>\n",
       "      <th>DT_TTL</th>\n",
       "      <th>Car_Count</th>\n",
       "      <th>KVS_Total</th>\n",
       "      <th>Scheduled_People</th>\n",
       "      <th>Actual_People</th>\n",
       "      <th>Reason_for_Labor_Diff</th>\n",
       "      <th>Reason_for_High_TTLs</th>\n",
       "      <th>Manager_Entering_Data</th>\n",
       "      <th>Timestamp</th>\n",
       "      <th>OEPE</th>\n",
       "      <th>Park_Percentage</th>\n",
       "    </tr>\n",
       "  </thead>\n",
       "  <tbody>\n",
       "    <tr>\n",
       "      <th>0</th>\n",
       "      <td>4462</td>\n",
       "      <td>JillianA</td>\n",
       "      <td>2017-01-23</td>\n",
       "      <td>08:00:00</td>\n",
       "      <td>540.0</td>\n",
       "      <td>420.0</td>\n",
       "      <td>170.0</td>\n",
       "      <td>NaN</td>\n",
       "      <td>100.0</td>\n",
       "      <td>NaN</td>\n",
       "      <td>NaN</td>\n",
       "      <td>NaN</td>\n",
       "      <td>NaN</td>\n",
       "      <td>NaN</td>\n",
       "      <td>2017-01-23 09:52:14</td>\n",
       "      <td>NaN</td>\n",
       "      <td>NaN</td>\n",
       "    </tr>\n",
       "    <tr>\n",
       "      <th>1</th>\n",
       "      <td>4462</td>\n",
       "      <td>ZoeyD</td>\n",
       "      <td>2017-02-05</td>\n",
       "      <td>06:00:00</td>\n",
       "      <td>90.0</td>\n",
       "      <td>155.0</td>\n",
       "      <td>114.0</td>\n",
       "      <td>NaN</td>\n",
       "      <td>78.0</td>\n",
       "      <td>NaN</td>\n",
       "      <td>NaN</td>\n",
       "      <td>NaN</td>\n",
       "      <td>NaN</td>\n",
       "      <td>NaN</td>\n",
       "      <td>2017-02-05 11:30:48</td>\n",
       "      <td>NaN</td>\n",
       "      <td>NaN</td>\n",
       "    </tr>\n",
       "    <tr>\n",
       "      <th>2</th>\n",
       "      <td>4462</td>\n",
       "      <td>JessicaB</td>\n",
       "      <td>2017-02-05</td>\n",
       "      <td>07:00:00</td>\n",
       "      <td>173.0</td>\n",
       "      <td>182.0</td>\n",
       "      <td>106.0</td>\n",
       "      <td>NaN</td>\n",
       "      <td>81.0</td>\n",
       "      <td>NaN</td>\n",
       "      <td>NaN</td>\n",
       "      <td>NaN</td>\n",
       "      <td>NaN</td>\n",
       "      <td>NaN</td>\n",
       "      <td>2017-02-05 11:35:48</td>\n",
       "      <td>NaN</td>\n",
       "      <td>NaN</td>\n",
       "    </tr>\n",
       "    <tr>\n",
       "      <th>3</th>\n",
       "      <td>4462</td>\n",
       "      <td>JessicaB</td>\n",
       "      <td>2017-02-05</td>\n",
       "      <td>08:00:00</td>\n",
       "      <td>333.0</td>\n",
       "      <td>311.0</td>\n",
       "      <td>102.0</td>\n",
       "      <td>NaN</td>\n",
       "      <td>55.0</td>\n",
       "      <td>NaN</td>\n",
       "      <td>NaN</td>\n",
       "      <td>NaN</td>\n",
       "      <td>NaN</td>\n",
       "      <td>NaN</td>\n",
       "      <td>2017-02-05 11:52:05</td>\n",
       "      <td>NaN</td>\n",
       "      <td>NaN</td>\n",
       "    </tr>\n",
       "    <tr>\n",
       "      <th>4</th>\n",
       "      <td>4462</td>\n",
       "      <td>JessicaB</td>\n",
       "      <td>2017-02-05</td>\n",
       "      <td>09:00:00</td>\n",
       "      <td>594.0</td>\n",
       "      <td>598.0</td>\n",
       "      <td>155.0</td>\n",
       "      <td>NaN</td>\n",
       "      <td>106.0</td>\n",
       "      <td>NaN</td>\n",
       "      <td>NaN</td>\n",
       "      <td>NaN</td>\n",
       "      <td>NaN</td>\n",
       "      <td>NaN</td>\n",
       "      <td>2017-02-05 11:59:35</td>\n",
       "      <td>NaN</td>\n",
       "      <td>NaN</td>\n",
       "    </tr>\n",
       "  </tbody>\n",
       "</table>\n",
       "</div>"
      ],
      "text/plain": [
       "   Store_ID   Manager        Date Ending_Hour  Projected_Sales  Sales  DT_TTL  \\\n",
       "0      4462  JillianA  2017-01-23    08:00:00            540.0  420.0   170.0   \n",
       "1      4462     ZoeyD  2017-02-05    06:00:00             90.0  155.0   114.0   \n",
       "2      4462  JessicaB  2017-02-05    07:00:00            173.0  182.0   106.0   \n",
       "3      4462  JessicaB  2017-02-05    08:00:00            333.0  311.0   102.0   \n",
       "4      4462  JessicaB  2017-02-05    09:00:00            594.0  598.0   155.0   \n",
       "\n",
       "   Car_Count  KVS_Total  Scheduled_People  Actual_People  \\\n",
       "0        NaN      100.0               NaN            NaN   \n",
       "1        NaN       78.0               NaN            NaN   \n",
       "2        NaN       81.0               NaN            NaN   \n",
       "3        NaN       55.0               NaN            NaN   \n",
       "4        NaN      106.0               NaN            NaN   \n",
       "\n",
       "  Reason_for_Labor_Diff Reason_for_High_TTLs Manager_Entering_Data  \\\n",
       "0                   NaN                  NaN                   NaN   \n",
       "1                   NaN                  NaN                   NaN   \n",
       "2                   NaN                  NaN                   NaN   \n",
       "3                   NaN                  NaN                   NaN   \n",
       "4                   NaN                  NaN                   NaN   \n",
       "\n",
       "             Timestamp  OEPE  Park_Percentage  \n",
       "0  2017-01-23 09:52:14   NaN              NaN  \n",
       "1  2017-02-05 11:30:48   NaN              NaN  \n",
       "2  2017-02-05 11:35:48   NaN              NaN  \n",
       "3  2017-02-05 11:52:05   NaN              NaN  \n",
       "4  2017-02-05 11:59:35   NaN              NaN  "
      ]
     },
     "execution_count": 3,
     "metadata": {},
     "output_type": "execute_result"
    }
   ],
   "source": [
    "laborSheetData.head()"
   ]
  },
  {
   "cell_type": "code",
   "execution_count": 4,
   "metadata": {},
   "outputs": [
    {
     "name": "stdout",
     "output_type": "stream",
     "text": [
      "<class 'pandas.core.frame.DataFrame'>\n",
      "RangeIndex: 25471 entries, 0 to 25470\n",
      "Data columns (total 17 columns):\n",
      "Store_ID                 25471 non-null int64\n",
      "Manager                  25471 non-null object\n",
      "Date                     25471 non-null object\n",
      "Ending_Hour              25471 non-null object\n",
      "Projected_Sales          25316 non-null float64\n",
      "Sales                    23678 non-null float64\n",
      "DT_TTL                   23647 non-null float64\n",
      "Car_Count                14529 non-null float64\n",
      "KVS_Total                23608 non-null float64\n",
      "Scheduled_People         16175 non-null float64\n",
      "Actual_People            16068 non-null float64\n",
      "Reason_for_Labor_Diff    553 non-null object\n",
      "Reason_for_High_TTLs     247 non-null object\n",
      "Manager_Entering_Data    11057 non-null object\n",
      "Timestamp                25471 non-null object\n",
      "OEPE                     0 non-null float64\n",
      "Park_Percentage          0 non-null float64\n",
      "dtypes: float64(9), int64(1), object(7)\n",
      "memory usage: 3.3+ MB\n"
     ]
    }
   ],
   "source": [
    "laborSheetData.info()"
   ]
  },
  {
   "cell_type": "markdown",
   "metadata": {},
   "source": [
    "### Note that the \"Date\" and \"Timestamp\" columns are read in as strings by default\n",
    "The data types are object, which means they were read in as strings. Let's double check that by grabbing a value from the data column using the .loc() method and finding its type with the type function."
   ]
  },
  {
   "cell_type": "code",
   "execution_count": 5,
   "metadata": {},
   "outputs": [
    {
     "data": {
      "text/plain": [
       "str"
      ]
     },
     "execution_count": 5,
     "metadata": {},
     "output_type": "execute_result"
    }
   ],
   "source": [
    "type(laborSheetData.loc[0, 'Date'])"
   ]
  },
  {
   "cell_type": "markdown",
   "metadata": {},
   "source": [
    "### Now, we will use the `parse_dates` argument to automatically read theses columns in as datetime columns\n",
    "All we need to do is pass a list of the columns we would like pandas to try and automatically decipher as date or time objects to the parse_dates argument.  If you look above at the output from .info, you will see that the date or datetime columns are the columns 'Date' and 'Timestamp' (remember that counting starts at 0).\n",
    "\n",
    "Note that this will cause the read_csv() method to take a little bit longer to complete."
   ]
  },
  {
   "cell_type": "code",
   "execution_count": 6,
   "metadata": {},
   "outputs": [],
   "source": [
    "# add the parse_date attribute\n",
    "laborSheetData = pd.read_csv(filepath, parse_dates=[\"Date\", \"Timestamp\"])"
   ]
  },
  {
   "cell_type": "code",
   "execution_count": 7,
   "metadata": {},
   "outputs": [
    {
     "data": {
      "text/html": [
       "<div>\n",
       "<style scoped>\n",
       "    .dataframe tbody tr th:only-of-type {\n",
       "        vertical-align: middle;\n",
       "    }\n",
       "\n",
       "    .dataframe tbody tr th {\n",
       "        vertical-align: top;\n",
       "    }\n",
       "\n",
       "    .dataframe thead th {\n",
       "        text-align: right;\n",
       "    }\n",
       "</style>\n",
       "<table border=\"1\" class=\"dataframe\">\n",
       "  <thead>\n",
       "    <tr style=\"text-align: right;\">\n",
       "      <th></th>\n",
       "      <th>Store_ID</th>\n",
       "      <th>Manager</th>\n",
       "      <th>Date</th>\n",
       "      <th>Ending_Hour</th>\n",
       "      <th>Projected_Sales</th>\n",
       "      <th>Sales</th>\n",
       "      <th>DT_TTL</th>\n",
       "      <th>Car_Count</th>\n",
       "      <th>KVS_Total</th>\n",
       "      <th>Scheduled_People</th>\n",
       "      <th>Actual_People</th>\n",
       "      <th>Reason_for_Labor_Diff</th>\n",
       "      <th>Reason_for_High_TTLs</th>\n",
       "      <th>Manager_Entering_Data</th>\n",
       "      <th>Timestamp</th>\n",
       "      <th>OEPE</th>\n",
       "      <th>Park_Percentage</th>\n",
       "    </tr>\n",
       "  </thead>\n",
       "  <tbody>\n",
       "    <tr>\n",
       "      <th>0</th>\n",
       "      <td>4462</td>\n",
       "      <td>JillianA</td>\n",
       "      <td>2017-01-23</td>\n",
       "      <td>08:00:00</td>\n",
       "      <td>540.0</td>\n",
       "      <td>420.0</td>\n",
       "      <td>170.0</td>\n",
       "      <td>NaN</td>\n",
       "      <td>100.0</td>\n",
       "      <td>NaN</td>\n",
       "      <td>NaN</td>\n",
       "      <td>NaN</td>\n",
       "      <td>NaN</td>\n",
       "      <td>NaN</td>\n",
       "      <td>2017-01-23 09:52:14</td>\n",
       "      <td>NaN</td>\n",
       "      <td>NaN</td>\n",
       "    </tr>\n",
       "    <tr>\n",
       "      <th>1</th>\n",
       "      <td>4462</td>\n",
       "      <td>ZoeyD</td>\n",
       "      <td>2017-02-05</td>\n",
       "      <td>06:00:00</td>\n",
       "      <td>90.0</td>\n",
       "      <td>155.0</td>\n",
       "      <td>114.0</td>\n",
       "      <td>NaN</td>\n",
       "      <td>78.0</td>\n",
       "      <td>NaN</td>\n",
       "      <td>NaN</td>\n",
       "      <td>NaN</td>\n",
       "      <td>NaN</td>\n",
       "      <td>NaN</td>\n",
       "      <td>2017-02-05 11:30:48</td>\n",
       "      <td>NaN</td>\n",
       "      <td>NaN</td>\n",
       "    </tr>\n",
       "  </tbody>\n",
       "</table>\n",
       "</div>"
      ],
      "text/plain": [
       "   Store_ID   Manager       Date Ending_Hour  Projected_Sales  Sales  DT_TTL  \\\n",
       "0      4462  JillianA 2017-01-23    08:00:00            540.0  420.0   170.0   \n",
       "1      4462     ZoeyD 2017-02-05    06:00:00             90.0  155.0   114.0   \n",
       "\n",
       "   Car_Count  KVS_Total  Scheduled_People  Actual_People  \\\n",
       "0        NaN      100.0               NaN            NaN   \n",
       "1        NaN       78.0               NaN            NaN   \n",
       "\n",
       "  Reason_for_Labor_Diff Reason_for_High_TTLs Manager_Entering_Data  \\\n",
       "0                   NaN                  NaN                   NaN   \n",
       "1                   NaN                  NaN                   NaN   \n",
       "\n",
       "            Timestamp  OEPE  Park_Percentage  \n",
       "0 2017-01-23 09:52:14   NaN              NaN  \n",
       "1 2017-02-05 11:30:48   NaN              NaN  "
      ]
     },
     "execution_count": 7,
     "metadata": {},
     "output_type": "execute_result"
    }
   ],
   "source": [
    "laborSheetData.head(2)"
   ]
  },
  {
   "cell_type": "markdown",
   "metadata": {},
   "source": [
    "### Let's use `.info()` to check the column datatypes\n",
    "Note that the 'Date' and 'TimeStamp' columns are now datetime types!"
   ]
  },
  {
   "cell_type": "code",
   "execution_count": 8,
   "metadata": {},
   "outputs": [
    {
     "name": "stdout",
     "output_type": "stream",
     "text": [
      "<class 'pandas.core.frame.DataFrame'>\n",
      "RangeIndex: 25471 entries, 0 to 25470\n",
      "Data columns (total 17 columns):\n",
      "Store_ID                 25471 non-null int64\n",
      "Manager                  25471 non-null object\n",
      "Date                     25471 non-null datetime64[ns]\n",
      "Ending_Hour              25471 non-null object\n",
      "Projected_Sales          25316 non-null float64\n",
      "Sales                    23678 non-null float64\n",
      "DT_TTL                   23647 non-null float64\n",
      "Car_Count                14529 non-null float64\n",
      "KVS_Total                23608 non-null float64\n",
      "Scheduled_People         16175 non-null float64\n",
      "Actual_People            16068 non-null float64\n",
      "Reason_for_Labor_Diff    553 non-null object\n",
      "Reason_for_High_TTLs     247 non-null object\n",
      "Manager_Entering_Data    11057 non-null object\n",
      "Timestamp                25471 non-null datetime64[ns]\n",
      "OEPE                     0 non-null float64\n",
      "Park_Percentage          0 non-null float64\n",
      "dtypes: datetime64[ns](2), float64(9), int64(1), object(5)\n",
      "memory usage: 3.3+ MB\n"
     ]
    }
   ],
   "source": [
    "laborSheetData.info()"
   ]
  },
  {
   "cell_type": "markdown",
   "metadata": {},
   "source": [
    "### Now let's use the `parse_dates` argument to _combine_ two (or more) columns into one datetime column. \n",
    "For this, I need to give you some information about this data. The 'TimeStamp' column let's us know when the data was entered, but the 'Date' + 'Hour' column let us know what hour the data is for.  So it would be great if we could combine the Date and Hour columns into one datetime column!\n",
    "\n",
    "We can do this using the parse_dates argument. All we need to do is include a list, of the columns we want to combine, as one of the items in the list that we we pass to the parse_dates argument.  \n",
    "\n",
    "Note that pandas will create a _new_ column called 'Date_Hour' that combines the 'Date' and 'Hour' columns two columns."
   ]
  },
  {
   "cell_type": "code",
   "execution_count": 9,
   "metadata": {},
   "outputs": [],
   "source": [
    "# add parse_dates\n",
    "laborSheetData = pd.read_csv(filepath, parse_dates=[[\"Date\", \"Ending_Hour\"], \"Timestamp\"])"
   ]
  },
  {
   "cell_type": "code",
   "execution_count": 10,
   "metadata": {},
   "outputs": [
    {
     "data": {
      "text/html": [
       "<div>\n",
       "<style scoped>\n",
       "    .dataframe tbody tr th:only-of-type {\n",
       "        vertical-align: middle;\n",
       "    }\n",
       "\n",
       "    .dataframe tbody tr th {\n",
       "        vertical-align: top;\n",
       "    }\n",
       "\n",
       "    .dataframe thead th {\n",
       "        text-align: right;\n",
       "    }\n",
       "</style>\n",
       "<table border=\"1\" class=\"dataframe\">\n",
       "  <thead>\n",
       "    <tr style=\"text-align: right;\">\n",
       "      <th></th>\n",
       "      <th>Date_Ending_Hour</th>\n",
       "      <th>Store_ID</th>\n",
       "      <th>Manager</th>\n",
       "      <th>Projected_Sales</th>\n",
       "      <th>Sales</th>\n",
       "      <th>DT_TTL</th>\n",
       "      <th>Car_Count</th>\n",
       "      <th>KVS_Total</th>\n",
       "      <th>Scheduled_People</th>\n",
       "      <th>Actual_People</th>\n",
       "      <th>Reason_for_Labor_Diff</th>\n",
       "      <th>Reason_for_High_TTLs</th>\n",
       "      <th>Manager_Entering_Data</th>\n",
       "      <th>Timestamp</th>\n",
       "      <th>OEPE</th>\n",
       "      <th>Park_Percentage</th>\n",
       "    </tr>\n",
       "  </thead>\n",
       "  <tbody>\n",
       "    <tr>\n",
       "      <th>0</th>\n",
       "      <td>2017-01-23 08:00:00</td>\n",
       "      <td>4462</td>\n",
       "      <td>JillianA</td>\n",
       "      <td>540.0</td>\n",
       "      <td>420.0</td>\n",
       "      <td>170.0</td>\n",
       "      <td>NaN</td>\n",
       "      <td>100.0</td>\n",
       "      <td>NaN</td>\n",
       "      <td>NaN</td>\n",
       "      <td>NaN</td>\n",
       "      <td>NaN</td>\n",
       "      <td>NaN</td>\n",
       "      <td>2017-01-23 09:52:14</td>\n",
       "      <td>NaN</td>\n",
       "      <td>NaN</td>\n",
       "    </tr>\n",
       "    <tr>\n",
       "      <th>1</th>\n",
       "      <td>2017-02-05 06:00:00</td>\n",
       "      <td>4462</td>\n",
       "      <td>ZoeyD</td>\n",
       "      <td>90.0</td>\n",
       "      <td>155.0</td>\n",
       "      <td>114.0</td>\n",
       "      <td>NaN</td>\n",
       "      <td>78.0</td>\n",
       "      <td>NaN</td>\n",
       "      <td>NaN</td>\n",
       "      <td>NaN</td>\n",
       "      <td>NaN</td>\n",
       "      <td>NaN</td>\n",
       "      <td>2017-02-05 11:30:48</td>\n",
       "      <td>NaN</td>\n",
       "      <td>NaN</td>\n",
       "    </tr>\n",
       "  </tbody>\n",
       "</table>\n",
       "</div>"
      ],
      "text/plain": [
       "     Date_Ending_Hour  Store_ID   Manager  Projected_Sales  Sales  DT_TTL  \\\n",
       "0 2017-01-23 08:00:00      4462  JillianA            540.0  420.0   170.0   \n",
       "1 2017-02-05 06:00:00      4462     ZoeyD             90.0  155.0   114.0   \n",
       "\n",
       "   Car_Count  KVS_Total  Scheduled_People  Actual_People  \\\n",
       "0        NaN      100.0               NaN            NaN   \n",
       "1        NaN       78.0               NaN            NaN   \n",
       "\n",
       "  Reason_for_Labor_Diff Reason_for_High_TTLs Manager_Entering_Data  \\\n",
       "0                   NaN                  NaN                   NaN   \n",
       "1                   NaN                  NaN                   NaN   \n",
       "\n",
       "            Timestamp  OEPE  Park_Percentage  \n",
       "0 2017-01-23 09:52:14   NaN              NaN  \n",
       "1 2017-02-05 11:30:48   NaN              NaN  "
      ]
     },
     "execution_count": 10,
     "metadata": {},
     "output_type": "execute_result"
    }
   ],
   "source": [
    "laborSheetData.head(2)"
   ]
  },
  {
   "cell_type": "code",
   "execution_count": 11,
   "metadata": {},
   "outputs": [
    {
     "name": "stdout",
     "output_type": "stream",
     "text": [
      "<class 'pandas.core.frame.DataFrame'>\n",
      "RangeIndex: 25471 entries, 0 to 25470\n",
      "Data columns (total 16 columns):\n",
      "Date_Ending_Hour         25471 non-null datetime64[ns]\n",
      "Store_ID                 25471 non-null int64\n",
      "Manager                  25471 non-null object\n",
      "Projected_Sales          25316 non-null float64\n",
      "Sales                    23678 non-null float64\n",
      "DT_TTL                   23647 non-null float64\n",
      "Car_Count                14529 non-null float64\n",
      "KVS_Total                23608 non-null float64\n",
      "Scheduled_People         16175 non-null float64\n",
      "Actual_People            16068 non-null float64\n",
      "Reason_for_Labor_Diff    553 non-null object\n",
      "Reason_for_High_TTLs     247 non-null object\n",
      "Manager_Entering_Data    11057 non-null object\n",
      "Timestamp                25471 non-null datetime64[ns]\n",
      "OEPE                     0 non-null float64\n",
      "Park_Percentage          0 non-null float64\n",
      "dtypes: datetime64[ns](2), float64(9), int64(1), object(4)\n",
      "memory usage: 3.1+ MB\n"
     ]
    }
   ],
   "source": [
    "laborSheetData.info()"
   ]
  },
  {
   "cell_type": "markdown",
   "metadata": {},
   "source": [
    "# Example 2: Weather Data\n",
    "\n",
    "Firs we will load the weather data and use .head() to look at the data.  Note that the first four columns are Year, Month, Day, and Hour."
   ]
  },
  {
   "cell_type": "code",
   "execution_count": 12,
   "metadata": {},
   "outputs": [],
   "source": [
    "filepath = os.path.join(os.getcwd(), 'data', 'Philadelphia_Pennsylvania_USA', '724080-13739-2001')\n",
    "\n",
    "headers = ['Year', 'Month', 'Day', 'Hour', 'Air Temp', 'Dew Point Temp', 'Sea Level Pressure',\n",
    "           'Wind Direction', 'Wind Speed Rate',\n",
    "           'Sky Condition Total Coverage Code',\n",
    "           'Liquid Precipitation Depth Dimension - 1Hr Duration',\n",
    "           'Liquid Precipitation Depth Dimension - Six Hour Duration']\n",
    "\n",
    "weatherData = pd.read_csv(filepath, delim_whitespace=True, names=headers)"
   ]
  },
  {
   "cell_type": "code",
   "execution_count": 13,
   "metadata": {},
   "outputs": [
    {
     "data": {
      "text/html": [
       "<div>\n",
       "<style scoped>\n",
       "    .dataframe tbody tr th:only-of-type {\n",
       "        vertical-align: middle;\n",
       "    }\n",
       "\n",
       "    .dataframe tbody tr th {\n",
       "        vertical-align: top;\n",
       "    }\n",
       "\n",
       "    .dataframe thead th {\n",
       "        text-align: right;\n",
       "    }\n",
       "</style>\n",
       "<table border=\"1\" class=\"dataframe\">\n",
       "  <thead>\n",
       "    <tr style=\"text-align: right;\">\n",
       "      <th></th>\n",
       "      <th>Year</th>\n",
       "      <th>Month</th>\n",
       "      <th>Day</th>\n",
       "      <th>Hour</th>\n",
       "      <th>Air Temp</th>\n",
       "      <th>Dew Point Temp</th>\n",
       "      <th>Sea Level Pressure</th>\n",
       "      <th>Wind Direction</th>\n",
       "      <th>Wind Speed Rate</th>\n",
       "      <th>Sky Condition Total Coverage Code</th>\n",
       "      <th>Liquid Precipitation Depth Dimension - 1Hr Duration</th>\n",
       "      <th>Liquid Precipitation Depth Dimension - Six Hour Duration</th>\n",
       "    </tr>\n",
       "  </thead>\n",
       "  <tbody>\n",
       "    <tr>\n",
       "      <th>0</th>\n",
       "      <td>2001</td>\n",
       "      <td>1</td>\n",
       "      <td>1</td>\n",
       "      <td>0</td>\n",
       "      <td>-6</td>\n",
       "      <td>-94</td>\n",
       "      <td>10146</td>\n",
       "      <td>280</td>\n",
       "      <td>57</td>\n",
       "      <td>2</td>\n",
       "      <td>0</td>\n",
       "      <td>-9999</td>\n",
       "    </tr>\n",
       "  </tbody>\n",
       "</table>\n",
       "</div>"
      ],
      "text/plain": [
       "   Year  Month  Day  Hour  Air Temp  Dew Point Temp  Sea Level Pressure  \\\n",
       "0  2001      1    1     0        -6             -94               10146   \n",
       "\n",
       "   Wind Direction  Wind Speed Rate  Sky Condition Total Coverage Code  \\\n",
       "0             280               57                                  2   \n",
       "\n",
       "   Liquid Precipitation Depth Dimension - 1Hr Duration  \\\n",
       "0                                                  0     \n",
       "\n",
       "   Liquid Precipitation Depth Dimension - Six Hour Duration  \n",
       "0                                              -9999         "
      ]
     },
     "execution_count": 13,
     "metadata": {},
     "output_type": "execute_result"
    }
   ],
   "source": [
    "weatherData.head(1)"
   ]
  },
  {
   "cell_type": "markdown",
   "metadata": {},
   "source": [
    "### In Class Exercise:\n",
    "#### Use parse_dates to reload the data and combine the first four columns into one datetime column"
   ]
  },
  {
   "cell_type": "code",
   "execution_count": 17,
   "metadata": {
    "scrolled": true
   },
   "outputs": [
    {
     "data": {
      "text/html": [
       "<div>\n",
       "<style scoped>\n",
       "    .dataframe tbody tr th:only-of-type {\n",
       "        vertical-align: middle;\n",
       "    }\n",
       "\n",
       "    .dataframe tbody tr th {\n",
       "        vertical-align: top;\n",
       "    }\n",
       "\n",
       "    .dataframe thead th {\n",
       "        text-align: right;\n",
       "    }\n",
       "</style>\n",
       "<table border=\"1\" class=\"dataframe\">\n",
       "  <thead>\n",
       "    <tr style=\"text-align: right;\">\n",
       "      <th></th>\n",
       "      <th>Year_Month_Day_Hour</th>\n",
       "      <th>Air Temp</th>\n",
       "      <th>Dew Point Temp</th>\n",
       "      <th>Sea Level Pressure</th>\n",
       "      <th>Wind Direction</th>\n",
       "      <th>Wind Speed Rate</th>\n",
       "      <th>Sky Condition Total Coverage Code</th>\n",
       "      <th>Liquid Precipitation Depth Dimension - 1Hr Duration</th>\n",
       "      <th>Liquid Precipitation Depth Dimension - Six Hour Duration</th>\n",
       "    </tr>\n",
       "  </thead>\n",
       "  <tbody>\n",
       "    <tr>\n",
       "      <th>0</th>\n",
       "      <td>2001-01-01 00:00:00</td>\n",
       "      <td>-6</td>\n",
       "      <td>-94</td>\n",
       "      <td>10146</td>\n",
       "      <td>280</td>\n",
       "      <td>57</td>\n",
       "      <td>2</td>\n",
       "      <td>0</td>\n",
       "      <td>-9999</td>\n",
       "    </tr>\n",
       "    <tr>\n",
       "      <th>1</th>\n",
       "      <td>2001-01-01 01:00:00</td>\n",
       "      <td>-11</td>\n",
       "      <td>-94</td>\n",
       "      <td>10153</td>\n",
       "      <td>280</td>\n",
       "      <td>57</td>\n",
       "      <td>4</td>\n",
       "      <td>0</td>\n",
       "      <td>-9999</td>\n",
       "    </tr>\n",
       "    <tr>\n",
       "      <th>2</th>\n",
       "      <td>2001-01-01 02:00:00</td>\n",
       "      <td>-17</td>\n",
       "      <td>-106</td>\n",
       "      <td>10161</td>\n",
       "      <td>290</td>\n",
       "      <td>62</td>\n",
       "      <td>2</td>\n",
       "      <td>0</td>\n",
       "      <td>-9999</td>\n",
       "    </tr>\n",
       "    <tr>\n",
       "      <th>3</th>\n",
       "      <td>2001-01-01 03:00:00</td>\n",
       "      <td>-28</td>\n",
       "      <td>-100</td>\n",
       "      <td>10169</td>\n",
       "      <td>260</td>\n",
       "      <td>57</td>\n",
       "      <td>0</td>\n",
       "      <td>0</td>\n",
       "      <td>-9999</td>\n",
       "    </tr>\n",
       "    <tr>\n",
       "      <th>4</th>\n",
       "      <td>2001-01-01 04:00:00</td>\n",
       "      <td>-28</td>\n",
       "      <td>-100</td>\n",
       "      <td>10177</td>\n",
       "      <td>260</td>\n",
       "      <td>52</td>\n",
       "      <td>0</td>\n",
       "      <td>0</td>\n",
       "      <td>-9999</td>\n",
       "    </tr>\n",
       "  </tbody>\n",
       "</table>\n",
       "</div>"
      ],
      "text/plain": [
       "  Year_Month_Day_Hour  Air Temp  Dew Point Temp  Sea Level Pressure  \\\n",
       "0 2001-01-01 00:00:00        -6             -94               10146   \n",
       "1 2001-01-01 01:00:00       -11             -94               10153   \n",
       "2 2001-01-01 02:00:00       -17            -106               10161   \n",
       "3 2001-01-01 03:00:00       -28            -100               10169   \n",
       "4 2001-01-01 04:00:00       -28            -100               10177   \n",
       "\n",
       "   Wind Direction  Wind Speed Rate  Sky Condition Total Coverage Code  \\\n",
       "0             280               57                                  2   \n",
       "1             280               57                                  4   \n",
       "2             290               62                                  2   \n",
       "3             260               57                                  0   \n",
       "4             260               52                                  0   \n",
       "\n",
       "   Liquid Precipitation Depth Dimension - 1Hr Duration  \\\n",
       "0                                                  0     \n",
       "1                                                  0     \n",
       "2                                                  0     \n",
       "3                                                  0     \n",
       "4                                                  0     \n",
       "\n",
       "   Liquid Precipitation Depth Dimension - Six Hour Duration  \n",
       "0                                              -9999         \n",
       "1                                              -9999         \n",
       "2                                              -9999         \n",
       "3                                              -9999         \n",
       "4                                              -9999         "
      ]
     },
     "execution_count": 17,
     "metadata": {},
     "output_type": "execute_result"
    }
   ],
   "source": [
    "weatherData = pd.read_csv(filepath, delim_whitespace=True, names=headers, parse_dates=[[\"Year\", \"Month\", \"Day\", \"Hour\"]]) # fill in this line\n",
    "\n",
    "weatherData.head()"
   ]
  },
  {
   "cell_type": "markdown",
   "metadata": {},
   "source": [
    "<a name=todatetime></a>\n",
    "# Convert a String Column to Datetimes After It Has Already Been Read in \n",
    "\n",
    "Sometimes, we need to convert a column after we read in the data. Maybe we have created the column during data processing. We can do this with the `to_datetime()` function in the pandas package.\n",
    "\n",
    "I am going to read in the labor sheet data again, without using parse_dates."
   ]
  },
  {
   "cell_type": "code",
   "execution_count": 18,
   "metadata": {},
   "outputs": [
    {
     "data": {
      "text/html": [
       "<div>\n",
       "<style scoped>\n",
       "    .dataframe tbody tr th:only-of-type {\n",
       "        vertical-align: middle;\n",
       "    }\n",
       "\n",
       "    .dataframe tbody tr th {\n",
       "        vertical-align: top;\n",
       "    }\n",
       "\n",
       "    .dataframe thead th {\n",
       "        text-align: right;\n",
       "    }\n",
       "</style>\n",
       "<table border=\"1\" class=\"dataframe\">\n",
       "  <thead>\n",
       "    <tr style=\"text-align: right;\">\n",
       "      <th></th>\n",
       "      <th>Store_ID</th>\n",
       "      <th>Manager</th>\n",
       "      <th>Date</th>\n",
       "      <th>Ending_Hour</th>\n",
       "      <th>Projected_Sales</th>\n",
       "      <th>Sales</th>\n",
       "      <th>DT_TTL</th>\n",
       "      <th>Car_Count</th>\n",
       "      <th>KVS_Total</th>\n",
       "      <th>Scheduled_People</th>\n",
       "      <th>Actual_People</th>\n",
       "      <th>Reason_for_Labor_Diff</th>\n",
       "      <th>Reason_for_High_TTLs</th>\n",
       "      <th>Manager_Entering_Data</th>\n",
       "      <th>Timestamp</th>\n",
       "      <th>OEPE</th>\n",
       "      <th>Park_Percentage</th>\n",
       "    </tr>\n",
       "  </thead>\n",
       "  <tbody>\n",
       "    <tr>\n",
       "      <th>0</th>\n",
       "      <td>4462</td>\n",
       "      <td>JillianA</td>\n",
       "      <td>2017-01-23</td>\n",
       "      <td>08:00:00</td>\n",
       "      <td>540.0</td>\n",
       "      <td>420.0</td>\n",
       "      <td>170.0</td>\n",
       "      <td>NaN</td>\n",
       "      <td>100.0</td>\n",
       "      <td>NaN</td>\n",
       "      <td>NaN</td>\n",
       "      <td>NaN</td>\n",
       "      <td>NaN</td>\n",
       "      <td>NaN</td>\n",
       "      <td>2017-01-23 09:52:14</td>\n",
       "      <td>NaN</td>\n",
       "      <td>NaN</td>\n",
       "    </tr>\n",
       "    <tr>\n",
       "      <th>1</th>\n",
       "      <td>4462</td>\n",
       "      <td>ZoeyD</td>\n",
       "      <td>2017-02-05</td>\n",
       "      <td>06:00:00</td>\n",
       "      <td>90.0</td>\n",
       "      <td>155.0</td>\n",
       "      <td>114.0</td>\n",
       "      <td>NaN</td>\n",
       "      <td>78.0</td>\n",
       "      <td>NaN</td>\n",
       "      <td>NaN</td>\n",
       "      <td>NaN</td>\n",
       "      <td>NaN</td>\n",
       "      <td>NaN</td>\n",
       "      <td>2017-02-05 11:30:48</td>\n",
       "      <td>NaN</td>\n",
       "      <td>NaN</td>\n",
       "    </tr>\n",
       "    <tr>\n",
       "      <th>2</th>\n",
       "      <td>4462</td>\n",
       "      <td>JessicaB</td>\n",
       "      <td>2017-02-05</td>\n",
       "      <td>07:00:00</td>\n",
       "      <td>173.0</td>\n",
       "      <td>182.0</td>\n",
       "      <td>106.0</td>\n",
       "      <td>NaN</td>\n",
       "      <td>81.0</td>\n",
       "      <td>NaN</td>\n",
       "      <td>NaN</td>\n",
       "      <td>NaN</td>\n",
       "      <td>NaN</td>\n",
       "      <td>NaN</td>\n",
       "      <td>2017-02-05 11:35:48</td>\n",
       "      <td>NaN</td>\n",
       "      <td>NaN</td>\n",
       "    </tr>\n",
       "    <tr>\n",
       "      <th>3</th>\n",
       "      <td>4462</td>\n",
       "      <td>JessicaB</td>\n",
       "      <td>2017-02-05</td>\n",
       "      <td>08:00:00</td>\n",
       "      <td>333.0</td>\n",
       "      <td>311.0</td>\n",
       "      <td>102.0</td>\n",
       "      <td>NaN</td>\n",
       "      <td>55.0</td>\n",
       "      <td>NaN</td>\n",
       "      <td>NaN</td>\n",
       "      <td>NaN</td>\n",
       "      <td>NaN</td>\n",
       "      <td>NaN</td>\n",
       "      <td>2017-02-05 11:52:05</td>\n",
       "      <td>NaN</td>\n",
       "      <td>NaN</td>\n",
       "    </tr>\n",
       "    <tr>\n",
       "      <th>4</th>\n",
       "      <td>4462</td>\n",
       "      <td>JessicaB</td>\n",
       "      <td>2017-02-05</td>\n",
       "      <td>09:00:00</td>\n",
       "      <td>594.0</td>\n",
       "      <td>598.0</td>\n",
       "      <td>155.0</td>\n",
       "      <td>NaN</td>\n",
       "      <td>106.0</td>\n",
       "      <td>NaN</td>\n",
       "      <td>NaN</td>\n",
       "      <td>NaN</td>\n",
       "      <td>NaN</td>\n",
       "      <td>NaN</td>\n",
       "      <td>2017-02-05 11:59:35</td>\n",
       "      <td>NaN</td>\n",
       "      <td>NaN</td>\n",
       "    </tr>\n",
       "  </tbody>\n",
       "</table>\n",
       "</div>"
      ],
      "text/plain": [
       "   Store_ID   Manager        Date Ending_Hour  Projected_Sales  Sales  DT_TTL  \\\n",
       "0      4462  JillianA  2017-01-23    08:00:00            540.0  420.0   170.0   \n",
       "1      4462     ZoeyD  2017-02-05    06:00:00             90.0  155.0   114.0   \n",
       "2      4462  JessicaB  2017-02-05    07:00:00            173.0  182.0   106.0   \n",
       "3      4462  JessicaB  2017-02-05    08:00:00            333.0  311.0   102.0   \n",
       "4      4462  JessicaB  2017-02-05    09:00:00            594.0  598.0   155.0   \n",
       "\n",
       "   Car_Count  KVS_Total  Scheduled_People  Actual_People  \\\n",
       "0        NaN      100.0               NaN            NaN   \n",
       "1        NaN       78.0               NaN            NaN   \n",
       "2        NaN       81.0               NaN            NaN   \n",
       "3        NaN       55.0               NaN            NaN   \n",
       "4        NaN      106.0               NaN            NaN   \n",
       "\n",
       "  Reason_for_Labor_Diff Reason_for_High_TTLs Manager_Entering_Data  \\\n",
       "0                   NaN                  NaN                   NaN   \n",
       "1                   NaN                  NaN                   NaN   \n",
       "2                   NaN                  NaN                   NaN   \n",
       "3                   NaN                  NaN                   NaN   \n",
       "4                   NaN                  NaN                   NaN   \n",
       "\n",
       "             Timestamp  OEPE  Park_Percentage  \n",
       "0  2017-01-23 09:52:14   NaN              NaN  \n",
       "1  2017-02-05 11:30:48   NaN              NaN  \n",
       "2  2017-02-05 11:35:48   NaN              NaN  \n",
       "3  2017-02-05 11:52:05   NaN              NaN  \n",
       "4  2017-02-05 11:59:35   NaN              NaN  "
      ]
     },
     "execution_count": 18,
     "metadata": {},
     "output_type": "execute_result"
    }
   ],
   "source": [
    "filepath = os.path.join(os.getcwd(), 'data', 'ShiftManagerApp_LaborSheet.csv')\n",
    "laborSheetData = pd.read_csv(filepath)\n",
    "laborSheetData.head()"
   ]
  },
  {
   "cell_type": "code",
   "execution_count": 19,
   "metadata": {
    "scrolled": true
   },
   "outputs": [
    {
     "name": "stdout",
     "output_type": "stream",
     "text": [
      "<class 'pandas.core.frame.DataFrame'>\n",
      "RangeIndex: 25471 entries, 0 to 25470\n",
      "Data columns (total 17 columns):\n",
      "Store_ID                 25471 non-null int64\n",
      "Manager                  25471 non-null object\n",
      "Date                     25471 non-null object\n",
      "Ending_Hour              25471 non-null object\n",
      "Projected_Sales          25316 non-null float64\n",
      "Sales                    23678 non-null float64\n",
      "DT_TTL                   23647 non-null float64\n",
      "Car_Count                14529 non-null float64\n",
      "KVS_Total                23608 non-null float64\n",
      "Scheduled_People         16175 non-null float64\n",
      "Actual_People            16068 non-null float64\n",
      "Reason_for_Labor_Diff    553 non-null object\n",
      "Reason_for_High_TTLs     247 non-null object\n",
      "Manager_Entering_Data    11057 non-null object\n",
      "Timestamp                25471 non-null object\n",
      "OEPE                     0 non-null float64\n",
      "Park_Percentage          0 non-null float64\n",
      "dtypes: float64(9), int64(1), object(7)\n",
      "memory usage: 3.3+ MB\n"
     ]
    }
   ],
   "source": [
    "laborSheetData.info()"
   ]
  },
  {
   "cell_type": "markdown",
   "metadata": {},
   "source": [
    "## Use `to_datetime()` to Convert the \"TimeStamp\" Column to a Column of Datetime Objects"
   ]
  },
  {
   "cell_type": "code",
   "execution_count": 20,
   "metadata": {},
   "outputs": [
    {
     "data": {
      "text/html": [
       "<div>\n",
       "<style scoped>\n",
       "    .dataframe tbody tr th:only-of-type {\n",
       "        vertical-align: middle;\n",
       "    }\n",
       "\n",
       "    .dataframe tbody tr th {\n",
       "        vertical-align: top;\n",
       "    }\n",
       "\n",
       "    .dataframe thead th {\n",
       "        text-align: right;\n",
       "    }\n",
       "</style>\n",
       "<table border=\"1\" class=\"dataframe\">\n",
       "  <thead>\n",
       "    <tr style=\"text-align: right;\">\n",
       "      <th></th>\n",
       "      <th>Store_ID</th>\n",
       "      <th>Manager</th>\n",
       "      <th>Date</th>\n",
       "      <th>Ending_Hour</th>\n",
       "      <th>Projected_Sales</th>\n",
       "      <th>Sales</th>\n",
       "      <th>DT_TTL</th>\n",
       "      <th>Car_Count</th>\n",
       "      <th>KVS_Total</th>\n",
       "      <th>Scheduled_People</th>\n",
       "      <th>Actual_People</th>\n",
       "      <th>Reason_for_Labor_Diff</th>\n",
       "      <th>Reason_for_High_TTLs</th>\n",
       "      <th>Manager_Entering_Data</th>\n",
       "      <th>Timestamp</th>\n",
       "      <th>OEPE</th>\n",
       "      <th>Park_Percentage</th>\n",
       "    </tr>\n",
       "  </thead>\n",
       "  <tbody>\n",
       "    <tr>\n",
       "      <th>0</th>\n",
       "      <td>4462</td>\n",
       "      <td>JillianA</td>\n",
       "      <td>2017-01-23</td>\n",
       "      <td>08:00:00</td>\n",
       "      <td>540.0</td>\n",
       "      <td>420.0</td>\n",
       "      <td>170.0</td>\n",
       "      <td>NaN</td>\n",
       "      <td>100.0</td>\n",
       "      <td>NaN</td>\n",
       "      <td>NaN</td>\n",
       "      <td>NaN</td>\n",
       "      <td>NaN</td>\n",
       "      <td>NaN</td>\n",
       "      <td>2017-01-23 09:52:14</td>\n",
       "      <td>NaN</td>\n",
       "      <td>NaN</td>\n",
       "    </tr>\n",
       "    <tr>\n",
       "      <th>1</th>\n",
       "      <td>4462</td>\n",
       "      <td>ZoeyD</td>\n",
       "      <td>2017-02-05</td>\n",
       "      <td>06:00:00</td>\n",
       "      <td>90.0</td>\n",
       "      <td>155.0</td>\n",
       "      <td>114.0</td>\n",
       "      <td>NaN</td>\n",
       "      <td>78.0</td>\n",
       "      <td>NaN</td>\n",
       "      <td>NaN</td>\n",
       "      <td>NaN</td>\n",
       "      <td>NaN</td>\n",
       "      <td>NaN</td>\n",
       "      <td>2017-02-05 11:30:48</td>\n",
       "      <td>NaN</td>\n",
       "      <td>NaN</td>\n",
       "    </tr>\n",
       "    <tr>\n",
       "      <th>2</th>\n",
       "      <td>4462</td>\n",
       "      <td>JessicaB</td>\n",
       "      <td>2017-02-05</td>\n",
       "      <td>07:00:00</td>\n",
       "      <td>173.0</td>\n",
       "      <td>182.0</td>\n",
       "      <td>106.0</td>\n",
       "      <td>NaN</td>\n",
       "      <td>81.0</td>\n",
       "      <td>NaN</td>\n",
       "      <td>NaN</td>\n",
       "      <td>NaN</td>\n",
       "      <td>NaN</td>\n",
       "      <td>NaN</td>\n",
       "      <td>2017-02-05 11:35:48</td>\n",
       "      <td>NaN</td>\n",
       "      <td>NaN</td>\n",
       "    </tr>\n",
       "    <tr>\n",
       "      <th>3</th>\n",
       "      <td>4462</td>\n",
       "      <td>JessicaB</td>\n",
       "      <td>2017-02-05</td>\n",
       "      <td>08:00:00</td>\n",
       "      <td>333.0</td>\n",
       "      <td>311.0</td>\n",
       "      <td>102.0</td>\n",
       "      <td>NaN</td>\n",
       "      <td>55.0</td>\n",
       "      <td>NaN</td>\n",
       "      <td>NaN</td>\n",
       "      <td>NaN</td>\n",
       "      <td>NaN</td>\n",
       "      <td>NaN</td>\n",
       "      <td>2017-02-05 11:52:05</td>\n",
       "      <td>NaN</td>\n",
       "      <td>NaN</td>\n",
       "    </tr>\n",
       "    <tr>\n",
       "      <th>4</th>\n",
       "      <td>4462</td>\n",
       "      <td>JessicaB</td>\n",
       "      <td>2017-02-05</td>\n",
       "      <td>09:00:00</td>\n",
       "      <td>594.0</td>\n",
       "      <td>598.0</td>\n",
       "      <td>155.0</td>\n",
       "      <td>NaN</td>\n",
       "      <td>106.0</td>\n",
       "      <td>NaN</td>\n",
       "      <td>NaN</td>\n",
       "      <td>NaN</td>\n",
       "      <td>NaN</td>\n",
       "      <td>NaN</td>\n",
       "      <td>2017-02-05 11:59:35</td>\n",
       "      <td>NaN</td>\n",
       "      <td>NaN</td>\n",
       "    </tr>\n",
       "  </tbody>\n",
       "</table>\n",
       "</div>"
      ],
      "text/plain": [
       "   Store_ID   Manager        Date Ending_Hour  Projected_Sales  Sales  DT_TTL  \\\n",
       "0      4462  JillianA  2017-01-23    08:00:00            540.0  420.0   170.0   \n",
       "1      4462     ZoeyD  2017-02-05    06:00:00             90.0  155.0   114.0   \n",
       "2      4462  JessicaB  2017-02-05    07:00:00            173.0  182.0   106.0   \n",
       "3      4462  JessicaB  2017-02-05    08:00:00            333.0  311.0   102.0   \n",
       "4      4462  JessicaB  2017-02-05    09:00:00            594.0  598.0   155.0   \n",
       "\n",
       "   Car_Count  KVS_Total  Scheduled_People  Actual_People  \\\n",
       "0        NaN      100.0               NaN            NaN   \n",
       "1        NaN       78.0               NaN            NaN   \n",
       "2        NaN       81.0               NaN            NaN   \n",
       "3        NaN       55.0               NaN            NaN   \n",
       "4        NaN      106.0               NaN            NaN   \n",
       "\n",
       "  Reason_for_Labor_Diff Reason_for_High_TTLs Manager_Entering_Data  \\\n",
       "0                   NaN                  NaN                   NaN   \n",
       "1                   NaN                  NaN                   NaN   \n",
       "2                   NaN                  NaN                   NaN   \n",
       "3                   NaN                  NaN                   NaN   \n",
       "4                   NaN                  NaN                   NaN   \n",
       "\n",
       "            Timestamp  OEPE  Park_Percentage  \n",
       "0 2017-01-23 09:52:14   NaN              NaN  \n",
       "1 2017-02-05 11:30:48   NaN              NaN  \n",
       "2 2017-02-05 11:35:48   NaN              NaN  \n",
       "3 2017-02-05 11:52:05   NaN              NaN  \n",
       "4 2017-02-05 11:59:35   NaN              NaN  "
      ]
     },
     "execution_count": 20,
     "metadata": {},
     "output_type": "execute_result"
    }
   ],
   "source": [
    "laborSheetData.loc[:, 'Timestamp'] = pd.to_datetime(laborSheetData['Timestamp'])\n",
    "laborSheetData.head()"
   ]
  },
  {
   "cell_type": "code",
   "execution_count": 21,
   "metadata": {},
   "outputs": [
    {
     "name": "stdout",
     "output_type": "stream",
     "text": [
      "<class 'pandas.core.frame.DataFrame'>\n",
      "RangeIndex: 25471 entries, 0 to 25470\n",
      "Data columns (total 17 columns):\n",
      "Store_ID                 25471 non-null int64\n",
      "Manager                  25471 non-null object\n",
      "Date                     25471 non-null object\n",
      "Ending_Hour              25471 non-null object\n",
      "Projected_Sales          25316 non-null float64\n",
      "Sales                    23678 non-null float64\n",
      "DT_TTL                   23647 non-null float64\n",
      "Car_Count                14529 non-null float64\n",
      "KVS_Total                23608 non-null float64\n",
      "Scheduled_People         16175 non-null float64\n",
      "Actual_People            16068 non-null float64\n",
      "Reason_for_Labor_Diff    553 non-null object\n",
      "Reason_for_High_TTLs     247 non-null object\n",
      "Manager_Entering_Data    11057 non-null object\n",
      "Timestamp                25471 non-null datetime64[ns]\n",
      "OEPE                     0 non-null float64\n",
      "Park_Percentage          0 non-null float64\n",
      "dtypes: datetime64[ns](1), float64(9), int64(1), object(6)\n",
      "memory usage: 3.3+ MB\n"
     ]
    }
   ],
   "source": [
    "laborSheetData.info()"
   ]
  },
  {
   "cell_type": "markdown",
   "metadata": {},
   "source": [
    "### We can combine columns as well, but we have to do this by combining the columns as strings and _then_ passing the result to the to_datetim() method"
   ]
  },
  {
   "cell_type": "code",
   "execution_count": 22,
   "metadata": {},
   "outputs": [
    {
     "name": "stdout",
     "output_type": "stream",
     "text": [
      "<class 'pandas.core.frame.DataFrame'>\n",
      "RangeIndex: 25471 entries, 0 to 25470\n",
      "Data columns (total 18 columns):\n",
      "Store_ID                 25471 non-null int64\n",
      "Manager                  25471 non-null object\n",
      "Date                     25471 non-null object\n",
      "Ending_Hour              25471 non-null object\n",
      "Projected_Sales          25316 non-null float64\n",
      "Sales                    23678 non-null float64\n",
      "DT_TTL                   23647 non-null float64\n",
      "Car_Count                14529 non-null float64\n",
      "KVS_Total                23608 non-null float64\n",
      "Scheduled_People         16175 non-null float64\n",
      "Actual_People            16068 non-null float64\n",
      "Reason_for_Labor_Diff    553 non-null object\n",
      "Reason_for_High_TTLs     247 non-null object\n",
      "Manager_Entering_Data    11057 non-null object\n",
      "Timestamp                25471 non-null datetime64[ns]\n",
      "OEPE                     0 non-null float64\n",
      "Park_Percentage          0 non-null float64\n",
      "Date_Ending_Hour         25471 non-null datetime64[ns]\n",
      "dtypes: datetime64[ns](2), float64(9), int64(1), object(6)\n",
      "memory usage: 3.5+ MB\n"
     ]
    }
   ],
   "source": [
    "laborSheetData.loc[:, 'Date_Ending_Hour'] = pd.to_datetime(laborSheetData['Date'] + ' ' + laborSheetData['Ending_Hour'])\n",
    "laborSheetData.info()\n"
   ]
  },
  {
   "cell_type": "markdown",
   "metadata": {},
   "source": [
    "<a name=dtattribute></a>\n",
    "# Using `.dt` to Operate on Datetime Columns\n",
    "I am sure you are wondering why we went to the trouble to convert the columns to the datetime data type. Well it lets us manipulate the datetimes much more easily. Let's see some basics below:\n",
    "\n",
    "First I read the data back in, correctly use the `parse_dates` argument."
   ]
  },
  {
   "cell_type": "code",
   "execution_count": 23,
   "metadata": {},
   "outputs": [
    {
     "data": {
      "text/html": [
       "<div>\n",
       "<style scoped>\n",
       "    .dataframe tbody tr th:only-of-type {\n",
       "        vertical-align: middle;\n",
       "    }\n",
       "\n",
       "    .dataframe tbody tr th {\n",
       "        vertical-align: top;\n",
       "    }\n",
       "\n",
       "    .dataframe thead th {\n",
       "        text-align: right;\n",
       "    }\n",
       "</style>\n",
       "<table border=\"1\" class=\"dataframe\">\n",
       "  <thead>\n",
       "    <tr style=\"text-align: right;\">\n",
       "      <th></th>\n",
       "      <th>Date_Ending_Hour</th>\n",
       "      <th>Store_ID</th>\n",
       "      <th>Manager</th>\n",
       "      <th>Projected_Sales</th>\n",
       "      <th>Sales</th>\n",
       "      <th>DT_TTL</th>\n",
       "      <th>Car_Count</th>\n",
       "      <th>KVS_Total</th>\n",
       "      <th>Scheduled_People</th>\n",
       "      <th>Actual_People</th>\n",
       "      <th>Reason_for_Labor_Diff</th>\n",
       "      <th>Reason_for_High_TTLs</th>\n",
       "      <th>Manager_Entering_Data</th>\n",
       "      <th>Timestamp</th>\n",
       "      <th>OEPE</th>\n",
       "      <th>Park_Percentage</th>\n",
       "    </tr>\n",
       "  </thead>\n",
       "  <tbody>\n",
       "    <tr>\n",
       "      <th>0</th>\n",
       "      <td>2017-01-23 08:00:00</td>\n",
       "      <td>4462</td>\n",
       "      <td>JillianA</td>\n",
       "      <td>540.0</td>\n",
       "      <td>420.0</td>\n",
       "      <td>170.0</td>\n",
       "      <td>NaN</td>\n",
       "      <td>100.0</td>\n",
       "      <td>NaN</td>\n",
       "      <td>NaN</td>\n",
       "      <td>NaN</td>\n",
       "      <td>NaN</td>\n",
       "      <td>NaN</td>\n",
       "      <td>2017-01-23 09:52:14</td>\n",
       "      <td>NaN</td>\n",
       "      <td>NaN</td>\n",
       "    </tr>\n",
       "    <tr>\n",
       "      <th>1</th>\n",
       "      <td>2017-02-05 06:00:00</td>\n",
       "      <td>4462</td>\n",
       "      <td>ZoeyD</td>\n",
       "      <td>90.0</td>\n",
       "      <td>155.0</td>\n",
       "      <td>114.0</td>\n",
       "      <td>NaN</td>\n",
       "      <td>78.0</td>\n",
       "      <td>NaN</td>\n",
       "      <td>NaN</td>\n",
       "      <td>NaN</td>\n",
       "      <td>NaN</td>\n",
       "      <td>NaN</td>\n",
       "      <td>2017-02-05 11:30:48</td>\n",
       "      <td>NaN</td>\n",
       "      <td>NaN</td>\n",
       "    </tr>\n",
       "  </tbody>\n",
       "</table>\n",
       "</div>"
      ],
      "text/plain": [
       "     Date_Ending_Hour  Store_ID   Manager  Projected_Sales  Sales  DT_TTL  \\\n",
       "0 2017-01-23 08:00:00      4462  JillianA            540.0  420.0   170.0   \n",
       "1 2017-02-05 06:00:00      4462     ZoeyD             90.0  155.0   114.0   \n",
       "\n",
       "   Car_Count  KVS_Total  Scheduled_People  Actual_People  \\\n",
       "0        NaN      100.0               NaN            NaN   \n",
       "1        NaN       78.0               NaN            NaN   \n",
       "\n",
       "  Reason_for_Labor_Diff Reason_for_High_TTLs Manager_Entering_Data  \\\n",
       "0                   NaN                  NaN                   NaN   \n",
       "1                   NaN                  NaN                   NaN   \n",
       "\n",
       "            Timestamp  OEPE  Park_Percentage  \n",
       "0 2017-01-23 09:52:14   NaN              NaN  \n",
       "1 2017-02-05 11:30:48   NaN              NaN  "
      ]
     },
     "execution_count": 23,
     "metadata": {},
     "output_type": "execute_result"
    }
   ],
   "source": [
    "laborSheetData = pd.read_csv(filepath, parse_dates=[[\"Date\", \"Ending_Hour\"], \"Timestamp\"])\n",
    "laborSheetData.head(2)"
   ]
  },
  {
   "cell_type": "markdown",
   "metadata": {},
   "source": [
    "## Accessing the Month, Day, and Year of Datetime Values"
   ]
  },
  {
   "cell_type": "markdown",
   "metadata": {},
   "source": [
    "### Use `.dt `to access the datetime properties, and then use `.month` to get the month of each value in the column"
   ]
  },
  {
   "cell_type": "code",
   "execution_count": 25,
   "metadata": {
    "scrolled": true
   },
   "outputs": [
    {
     "data": {
      "text/plain": [
       "0    1\n",
       "1    2\n",
       "Name: Date_Ending_Hour, dtype: int64"
      ]
     },
     "execution_count": 25,
     "metadata": {},
     "output_type": "execute_result"
    }
   ],
   "source": [
    "# add .dt.month.head(2)\n",
    "laborSheetData['Date_Ending_Hour'].dt.month.head(2)"
   ]
  },
  {
   "cell_type": "markdown",
   "metadata": {},
   "source": [
    "### Use `.dt` and `.year` to get the year of each columns"
   ]
  },
  {
   "cell_type": "code",
   "execution_count": 26,
   "metadata": {
    "scrolled": true
   },
   "outputs": [
    {
     "data": {
      "text/plain": [
       "0    2017\n",
       "1    2017\n",
       "Name: Date_Ending_Hour, dtype: int64"
      ]
     },
     "execution_count": 26,
     "metadata": {},
     "output_type": "execute_result"
    }
   ],
   "source": [
    "# add .dt.year.head(2)\n",
    "laborSheetData['Date_Ending_Hour'].dt.year.head(2)"
   ]
  },
  {
   "cell_type": "markdown",
   "metadata": {},
   "source": [
    "### Use `.dt `and `.day` to get the day of each columns"
   ]
  },
  {
   "cell_type": "code",
   "execution_count": 27,
   "metadata": {
    "scrolled": true
   },
   "outputs": [
    {
     "data": {
      "text/plain": [
       "0    23\n",
       "1     5\n",
       "Name: Date_Ending_Hour, dtype: int64"
      ]
     },
     "execution_count": 27,
     "metadata": {},
     "output_type": "execute_result"
    }
   ],
   "source": [
    "# add .dt.day.head(2)\n",
    "laborSheetData['Date_Ending_Hour'].dt.day.head(2)"
   ]
  },
  {
   "cell_type": "markdown",
   "metadata": {},
   "source": [
    "### Use `.dt` and `.hour` to get the hour of each columns"
   ]
  },
  {
   "cell_type": "code",
   "execution_count": 28,
   "metadata": {
    "scrolled": true
   },
   "outputs": [
    {
     "data": {
      "text/plain": [
       "0    8\n",
       "1    6\n",
       "2    7\n",
       "3    8\n",
       "4    9\n",
       "Name: Date_Ending_Hour, dtype: int64"
      ]
     },
     "execution_count": 28,
     "metadata": {},
     "output_type": "execute_result"
    }
   ],
   "source": [
    "# add .dt.hour.head(2)\n",
    "laborSheetData['Date_Ending_Hour'].dt.hour.head()"
   ]
  },
  {
   "cell_type": "markdown",
   "metadata": {},
   "source": [
    "### Use `.dt` and `.hour` and `.value_counts()` to get the row counts for each hour; do some hours get recorded less than others?"
   ]
  },
  {
   "cell_type": "code",
   "execution_count": 29,
   "metadata": {
    "scrolled": false
   },
   "outputs": [
    {
     "data": {
      "text/plain": [
       "8     1615\n",
       "9     1597\n",
       "10    1555\n",
       "11    1526\n",
       "12    1502\n",
       "13    1464\n",
       "14    1409\n",
       "15    1385\n",
       "7     1349\n",
       "16    1342\n",
       "18    1333\n",
       "6     1324\n",
       "17    1317\n",
       "19    1288\n",
       "20    1235\n",
       "21    1209\n",
       "22    1147\n",
       "23    1042\n",
       "0      606\n",
       "1      226\n",
       "Name: Date_Ending_Hour, dtype: int64"
      ]
     },
     "execution_count": 29,
     "metadata": {},
     "output_type": "execute_result"
    }
   ],
   "source": [
    "# add .dt.hour.value_counts()\n",
    "laborSheetData['Date_Ending_Hour'].dt.hour.value_counts()"
   ]
  },
  {
   "cell_type": "markdown",
   "metadata": {},
   "source": [
    "### Introducing `.sort_index()`.  The `.sort_index()` method will sort the index of a dataframe (while reordering the rows appropriately)\n",
    "\n",
    "Note that the index of the value_counts() results is made up of the values that you are counting. Since these are hours, let's use `.sort_index()` to sort  the hours in order."
   ]
  },
  {
   "cell_type": "code",
   "execution_count": 30,
   "metadata": {},
   "outputs": [
    {
     "data": {
      "text/plain": [
       "0      606\n",
       "1      226\n",
       "6     1324\n",
       "7     1349\n",
       "8     1615\n",
       "9     1597\n",
       "10    1555\n",
       "11    1526\n",
       "12    1502\n",
       "13    1464\n",
       "14    1409\n",
       "15    1385\n",
       "16    1342\n",
       "17    1317\n",
       "18    1333\n",
       "19    1288\n",
       "20    1235\n",
       "21    1209\n",
       "22    1147\n",
       "23    1042\n",
       "Name: Date_Ending_Hour, dtype: int64"
      ]
     },
     "execution_count": 30,
     "metadata": {},
     "output_type": "execute_result"
    }
   ],
   "source": [
    "laborSheetData['Date_Ending_Hour'].dt.hour.value_counts().sort_index() # add .sort_index() to sort the values"
   ]
  },
  {
   "cell_type": "markdown",
   "metadata": {},
   "source": [
    "<a name=minmaxsum></a>\n",
    "# Introducing the `.min()`, `.max()` and `.sum()` Methods.\n",
    "You can use these methods on any column, or dataframe to get the min, max, and sum of all numerical columns. You can also use the `.min()` and `.max()` methods to get the min and max of datetime columns"
   ]
  },
  {
   "cell_type": "markdown",
   "metadata": {},
   "source": [
    "### Use `.min()` and `.max()` to find the earliest and latest year in the data."
   ]
  },
  {
   "cell_type": "code",
   "execution_count": 31,
   "metadata": {},
   "outputs": [
    {
     "name": "stdout",
     "output_type": "stream",
     "text": [
      "2017-01-23 08:00:00\n",
      "2018-07-29 01:00:00\n"
     ]
    }
   ],
   "source": [
    "print(laborSheetData['Date_Ending_Hour'].min())\n",
    "print(laborSheetData['Date_Ending_Hour'].max())"
   ]
  },
  {
   "cell_type": "markdown",
   "metadata": {},
   "source": [
    "### Combine the use of `.loc`, `.dt`, and `.sum()` to find the total sales In August across all stores."
   ]
  },
  {
   "cell_type": "code",
   "execution_count": 35,
   "metadata": {},
   "outputs": [
    {
     "data": {
      "text/plain": [
       "206288.23"
      ]
     },
     "execution_count": 35,
     "metadata": {},
     "output_type": "execute_result"
    }
   ],
   "source": [
    "# Fill in this cell as an exercise\n",
    "laborSheetData.loc[laborSheetData[\"Date_Ending_Hour\"].dt.month == 8, 'Sales'].sum()"
   ]
  },
  {
   "cell_type": "markdown",
   "metadata": {},
   "source": [
    "## Selecting Rows Greater Than (or Less Than) a Date.\n",
    "Getting rows greater than, or less than (or some combination of logic tests) is fairly easy.  You use your normal logic tests: >, <, ==, etc...  and pass the value you'd like to test against as a string.  See the example below, note how we are able to use the string '2017-08-01' to get all rows with a value in the 'TimeStamp' column greater than '2017-08-01'. Easy!"
   ]
  },
  {
   "cell_type": "code",
   "execution_count": 36,
   "metadata": {},
   "outputs": [
    {
     "data": {
      "text/html": [
       "<div>\n",
       "<style scoped>\n",
       "    .dataframe tbody tr th:only-of-type {\n",
       "        vertical-align: middle;\n",
       "    }\n",
       "\n",
       "    .dataframe tbody tr th {\n",
       "        vertical-align: top;\n",
       "    }\n",
       "\n",
       "    .dataframe thead th {\n",
       "        text-align: right;\n",
       "    }\n",
       "</style>\n",
       "<table border=\"1\" class=\"dataframe\">\n",
       "  <thead>\n",
       "    <tr style=\"text-align: right;\">\n",
       "      <th></th>\n",
       "      <th>Date_Ending_Hour</th>\n",
       "      <th>Store_ID</th>\n",
       "      <th>Manager</th>\n",
       "      <th>Projected_Sales</th>\n",
       "      <th>Sales</th>\n",
       "      <th>DT_TTL</th>\n",
       "      <th>Car_Count</th>\n",
       "      <th>KVS_Total</th>\n",
       "      <th>Scheduled_People</th>\n",
       "      <th>Actual_People</th>\n",
       "      <th>Reason_for_Labor_Diff</th>\n",
       "      <th>Reason_for_High_TTLs</th>\n",
       "      <th>Manager_Entering_Data</th>\n",
       "      <th>Timestamp</th>\n",
       "      <th>OEPE</th>\n",
       "      <th>Park_Percentage</th>\n",
       "    </tr>\n",
       "  </thead>\n",
       "  <tbody>\n",
       "    <tr>\n",
       "      <th>0</th>\n",
       "      <td>2017-01-23 08:00:00</td>\n",
       "      <td>4462</td>\n",
       "      <td>JillianA</td>\n",
       "      <td>540.0</td>\n",
       "      <td>420.0</td>\n",
       "      <td>170.0</td>\n",
       "      <td>NaN</td>\n",
       "      <td>100.0</td>\n",
       "      <td>NaN</td>\n",
       "      <td>NaN</td>\n",
       "      <td>NaN</td>\n",
       "      <td>NaN</td>\n",
       "      <td>NaN</td>\n",
       "      <td>2017-01-23 09:52:14</td>\n",
       "      <td>NaN</td>\n",
       "      <td>NaN</td>\n",
       "    </tr>\n",
       "    <tr>\n",
       "      <th>1</th>\n",
       "      <td>2017-02-05 06:00:00</td>\n",
       "      <td>4462</td>\n",
       "      <td>ZoeyD</td>\n",
       "      <td>90.0</td>\n",
       "      <td>155.0</td>\n",
       "      <td>114.0</td>\n",
       "      <td>NaN</td>\n",
       "      <td>78.0</td>\n",
       "      <td>NaN</td>\n",
       "      <td>NaN</td>\n",
       "      <td>NaN</td>\n",
       "      <td>NaN</td>\n",
       "      <td>NaN</td>\n",
       "      <td>2017-02-05 11:30:48</td>\n",
       "      <td>NaN</td>\n",
       "      <td>NaN</td>\n",
       "    </tr>\n",
       "    <tr>\n",
       "      <th>2</th>\n",
       "      <td>2017-02-05 07:00:00</td>\n",
       "      <td>4462</td>\n",
       "      <td>JessicaB</td>\n",
       "      <td>173.0</td>\n",
       "      <td>182.0</td>\n",
       "      <td>106.0</td>\n",
       "      <td>NaN</td>\n",
       "      <td>81.0</td>\n",
       "      <td>NaN</td>\n",
       "      <td>NaN</td>\n",
       "      <td>NaN</td>\n",
       "      <td>NaN</td>\n",
       "      <td>NaN</td>\n",
       "      <td>2017-02-05 11:35:48</td>\n",
       "      <td>NaN</td>\n",
       "      <td>NaN</td>\n",
       "    </tr>\n",
       "    <tr>\n",
       "      <th>3</th>\n",
       "      <td>2017-02-05 08:00:00</td>\n",
       "      <td>4462</td>\n",
       "      <td>JessicaB</td>\n",
       "      <td>333.0</td>\n",
       "      <td>311.0</td>\n",
       "      <td>102.0</td>\n",
       "      <td>NaN</td>\n",
       "      <td>55.0</td>\n",
       "      <td>NaN</td>\n",
       "      <td>NaN</td>\n",
       "      <td>NaN</td>\n",
       "      <td>NaN</td>\n",
       "      <td>NaN</td>\n",
       "      <td>2017-02-05 11:52:05</td>\n",
       "      <td>NaN</td>\n",
       "      <td>NaN</td>\n",
       "    </tr>\n",
       "    <tr>\n",
       "      <th>4</th>\n",
       "      <td>2017-02-05 09:00:00</td>\n",
       "      <td>4462</td>\n",
       "      <td>JessicaB</td>\n",
       "      <td>594.0</td>\n",
       "      <td>598.0</td>\n",
       "      <td>155.0</td>\n",
       "      <td>NaN</td>\n",
       "      <td>106.0</td>\n",
       "      <td>NaN</td>\n",
       "      <td>NaN</td>\n",
       "      <td>NaN</td>\n",
       "      <td>NaN</td>\n",
       "      <td>NaN</td>\n",
       "      <td>2017-02-05 11:59:35</td>\n",
       "      <td>NaN</td>\n",
       "      <td>NaN</td>\n",
       "    </tr>\n",
       "  </tbody>\n",
       "</table>\n",
       "</div>"
      ],
      "text/plain": [
       "     Date_Ending_Hour  Store_ID   Manager  Projected_Sales  Sales  DT_TTL  \\\n",
       "0 2017-01-23 08:00:00      4462  JillianA            540.0  420.0   170.0   \n",
       "1 2017-02-05 06:00:00      4462     ZoeyD             90.0  155.0   114.0   \n",
       "2 2017-02-05 07:00:00      4462  JessicaB            173.0  182.0   106.0   \n",
       "3 2017-02-05 08:00:00      4462  JessicaB            333.0  311.0   102.0   \n",
       "4 2017-02-05 09:00:00      4462  JessicaB            594.0  598.0   155.0   \n",
       "\n",
       "   Car_Count  KVS_Total  Scheduled_People  Actual_People  \\\n",
       "0        NaN      100.0               NaN            NaN   \n",
       "1        NaN       78.0               NaN            NaN   \n",
       "2        NaN       81.0               NaN            NaN   \n",
       "3        NaN       55.0               NaN            NaN   \n",
       "4        NaN      106.0               NaN            NaN   \n",
       "\n",
       "  Reason_for_Labor_Diff Reason_for_High_TTLs Manager_Entering_Data  \\\n",
       "0                   NaN                  NaN                   NaN   \n",
       "1                   NaN                  NaN                   NaN   \n",
       "2                   NaN                  NaN                   NaN   \n",
       "3                   NaN                  NaN                   NaN   \n",
       "4                   NaN                  NaN                   NaN   \n",
       "\n",
       "            Timestamp  OEPE  Park_Percentage  \n",
       "0 2017-01-23 09:52:14   NaN              NaN  \n",
       "1 2017-02-05 11:30:48   NaN              NaN  \n",
       "2 2017-02-05 11:35:48   NaN              NaN  \n",
       "3 2017-02-05 11:52:05   NaN              NaN  \n",
       "4 2017-02-05 11:59:35   NaN              NaN  "
      ]
     },
     "execution_count": 36,
     "metadata": {},
     "output_type": "execute_result"
    }
   ],
   "source": [
    "laborSheetData.loc[laborSheetData['Timestamp'] <= '2017-08-01 00:00:00', :].head()"
   ]
  },
  {
   "cell_type": "markdown",
   "metadata": {},
   "source": [
    "## In Class Exercise:\n",
    "Create a cell below and answer the following questions:\n",
    "\n",
    "* What were the total sales in store 18065 on 2017-07-01?\n",
    "* What were the total sales in store 4462 for the month of July?\n",
    "* What was the difference between the sales in store 4462 and store 18065 in October-2017?\n",
    "\n"
   ]
  },
  {
   "cell_type": "code",
   "execution_count": 55,
   "metadata": {},
   "outputs": [
    {
     "name": "stdout",
     "output_type": "stream",
     "text": [
      "327.0\n",
      "330213.02\n",
      "4944.0\n"
     ]
    }
   ],
   "source": [
    "problem_1 = laborSheetData.loc[(laborSheetData['Date_Ending_Hour'] >= \"2017-07-01\") &\n",
    "                   (laborSheetData['Date_Ending_Hour'] < \"2017-07-02\") &\n",
    "                   (laborSheetData['Store_ID'] == 18065), \"Sales\"].sum()\n",
    "\n",
    "problem_2 = laborSheetData.loc[(laborSheetData['Date_Ending_Hour'].dt.month == 7) &\n",
    "                   (laborSheetData['Store_ID'] == 4462), \"Sales\"].sum()\n",
    "\n",
    "store_4462 = laborSheetData.loc[(laborSheetData['Date_Ending_Hour'].dt.month == 10) &\n",
    "                                (laborSheetData['Date_Ending_Hour'].dt.year == 2017) &\n",
    "                                (laborSheetData['Store_ID'] == 4462), \"Sales\"].sum()\n",
    "\n",
    "store_18056 = laborSheetData.loc[(laborSheetData['Date_Ending_Hour'].dt.month == 10) &\n",
    "                                (laborSheetData['Date_Ending_Hour'].dt.year == 2017) &\n",
    "                                (laborSheetData['Store_ID'] == 18056), \"Sales\"].sum()\n",
    "\n",
    "print(problem_1)\n",
    "print(problem_2)\n",
    "print(store_4462 - store_18056)"
   ]
  },
  {
   "cell_type": "markdown",
   "metadata": {},
   "source": [
    "<a name=timezone></a>\n",
    "# Changing the Time Zone of a Datetime Column\n"
   ]
  },
  {
   "cell_type": "markdown",
   "metadata": {},
   "source": [
    "## First - Localize a Datetime Column (Assign it a Timezone)\n",
    "\n",
    "Pandas includes some easy functionality to convert the timezone of a datetime column.  The first thing we need to do is 'localize' the column - this means defining what timezone the original data is in.  They data we have been using happens to be from fast food location on the west coast, so we will localize the timestamp column to the 'US/Pacific' timezone by using the `tz_localize()` method.\n",
    "\n",
    "You can find a list of all accepted timezones in the top answer to this stackovrflow question: \n",
    "https://stackoverflow.com/questions/13866926/python-pytz-list-of-timezones"
   ]
  },
  {
   "cell_type": "code",
   "execution_count": 56,
   "metadata": {},
   "outputs": [],
   "source": [
    "laborSheetData.loc[:, 'Timestamp'] = laborSheetData['Timestamp'].dt.tz_localize('US/Pacific')"
   ]
  },
  {
   "cell_type": "code",
   "execution_count": 57,
   "metadata": {},
   "outputs": [
    {
     "data": {
      "text/html": [
       "<div>\n",
       "<style scoped>\n",
       "    .dataframe tbody tr th:only-of-type {\n",
       "        vertical-align: middle;\n",
       "    }\n",
       "\n",
       "    .dataframe tbody tr th {\n",
       "        vertical-align: top;\n",
       "    }\n",
       "\n",
       "    .dataframe thead th {\n",
       "        text-align: right;\n",
       "    }\n",
       "</style>\n",
       "<table border=\"1\" class=\"dataframe\">\n",
       "  <thead>\n",
       "    <tr style=\"text-align: right;\">\n",
       "      <th></th>\n",
       "      <th>Date_Ending_Hour</th>\n",
       "      <th>Store_ID</th>\n",
       "      <th>Manager</th>\n",
       "      <th>Projected_Sales</th>\n",
       "      <th>Sales</th>\n",
       "      <th>DT_TTL</th>\n",
       "      <th>Car_Count</th>\n",
       "      <th>KVS_Total</th>\n",
       "      <th>Scheduled_People</th>\n",
       "      <th>Actual_People</th>\n",
       "      <th>Reason_for_Labor_Diff</th>\n",
       "      <th>Reason_for_High_TTLs</th>\n",
       "      <th>Manager_Entering_Data</th>\n",
       "      <th>Timestamp</th>\n",
       "      <th>OEPE</th>\n",
       "      <th>Park_Percentage</th>\n",
       "    </tr>\n",
       "  </thead>\n",
       "  <tbody>\n",
       "    <tr>\n",
       "      <th>0</th>\n",
       "      <td>2017-01-23 08:00:00</td>\n",
       "      <td>4462</td>\n",
       "      <td>JillianA</td>\n",
       "      <td>540.0</td>\n",
       "      <td>420.0</td>\n",
       "      <td>170.0</td>\n",
       "      <td>NaN</td>\n",
       "      <td>100.0</td>\n",
       "      <td>NaN</td>\n",
       "      <td>NaN</td>\n",
       "      <td>NaN</td>\n",
       "      <td>NaN</td>\n",
       "      <td>NaN</td>\n",
       "      <td>2017-01-23 09:52:14-08:00</td>\n",
       "      <td>NaN</td>\n",
       "      <td>NaN</td>\n",
       "    </tr>\n",
       "    <tr>\n",
       "      <th>1</th>\n",
       "      <td>2017-02-05 06:00:00</td>\n",
       "      <td>4462</td>\n",
       "      <td>ZoeyD</td>\n",
       "      <td>90.0</td>\n",
       "      <td>155.0</td>\n",
       "      <td>114.0</td>\n",
       "      <td>NaN</td>\n",
       "      <td>78.0</td>\n",
       "      <td>NaN</td>\n",
       "      <td>NaN</td>\n",
       "      <td>NaN</td>\n",
       "      <td>NaN</td>\n",
       "      <td>NaN</td>\n",
       "      <td>2017-02-05 11:30:48-08:00</td>\n",
       "      <td>NaN</td>\n",
       "      <td>NaN</td>\n",
       "    </tr>\n",
       "    <tr>\n",
       "      <th>2</th>\n",
       "      <td>2017-02-05 07:00:00</td>\n",
       "      <td>4462</td>\n",
       "      <td>JessicaB</td>\n",
       "      <td>173.0</td>\n",
       "      <td>182.0</td>\n",
       "      <td>106.0</td>\n",
       "      <td>NaN</td>\n",
       "      <td>81.0</td>\n",
       "      <td>NaN</td>\n",
       "      <td>NaN</td>\n",
       "      <td>NaN</td>\n",
       "      <td>NaN</td>\n",
       "      <td>NaN</td>\n",
       "      <td>2017-02-05 11:35:48-08:00</td>\n",
       "      <td>NaN</td>\n",
       "      <td>NaN</td>\n",
       "    </tr>\n",
       "    <tr>\n",
       "      <th>3</th>\n",
       "      <td>2017-02-05 08:00:00</td>\n",
       "      <td>4462</td>\n",
       "      <td>JessicaB</td>\n",
       "      <td>333.0</td>\n",
       "      <td>311.0</td>\n",
       "      <td>102.0</td>\n",
       "      <td>NaN</td>\n",
       "      <td>55.0</td>\n",
       "      <td>NaN</td>\n",
       "      <td>NaN</td>\n",
       "      <td>NaN</td>\n",
       "      <td>NaN</td>\n",
       "      <td>NaN</td>\n",
       "      <td>2017-02-05 11:52:05-08:00</td>\n",
       "      <td>NaN</td>\n",
       "      <td>NaN</td>\n",
       "    </tr>\n",
       "    <tr>\n",
       "      <th>4</th>\n",
       "      <td>2017-02-05 09:00:00</td>\n",
       "      <td>4462</td>\n",
       "      <td>JessicaB</td>\n",
       "      <td>594.0</td>\n",
       "      <td>598.0</td>\n",
       "      <td>155.0</td>\n",
       "      <td>NaN</td>\n",
       "      <td>106.0</td>\n",
       "      <td>NaN</td>\n",
       "      <td>NaN</td>\n",
       "      <td>NaN</td>\n",
       "      <td>NaN</td>\n",
       "      <td>NaN</td>\n",
       "      <td>2017-02-05 11:59:35-08:00</td>\n",
       "      <td>NaN</td>\n",
       "      <td>NaN</td>\n",
       "    </tr>\n",
       "  </tbody>\n",
       "</table>\n",
       "</div>"
      ],
      "text/plain": [
       "     Date_Ending_Hour  Store_ID   Manager  Projected_Sales  Sales  DT_TTL  \\\n",
       "0 2017-01-23 08:00:00      4462  JillianA            540.0  420.0   170.0   \n",
       "1 2017-02-05 06:00:00      4462     ZoeyD             90.0  155.0   114.0   \n",
       "2 2017-02-05 07:00:00      4462  JessicaB            173.0  182.0   106.0   \n",
       "3 2017-02-05 08:00:00      4462  JessicaB            333.0  311.0   102.0   \n",
       "4 2017-02-05 09:00:00      4462  JessicaB            594.0  598.0   155.0   \n",
       "\n",
       "   Car_Count  KVS_Total  Scheduled_People  Actual_People  \\\n",
       "0        NaN      100.0               NaN            NaN   \n",
       "1        NaN       78.0               NaN            NaN   \n",
       "2        NaN       81.0               NaN            NaN   \n",
       "3        NaN       55.0               NaN            NaN   \n",
       "4        NaN      106.0               NaN            NaN   \n",
       "\n",
       "  Reason_for_Labor_Diff Reason_for_High_TTLs Manager_Entering_Data  \\\n",
       "0                   NaN                  NaN                   NaN   \n",
       "1                   NaN                  NaN                   NaN   \n",
       "2                   NaN                  NaN                   NaN   \n",
       "3                   NaN                  NaN                   NaN   \n",
       "4                   NaN                  NaN                   NaN   \n",
       "\n",
       "                  Timestamp  OEPE  Park_Percentage  \n",
       "0 2017-01-23 09:52:14-08:00   NaN              NaN  \n",
       "1 2017-02-05 11:30:48-08:00   NaN              NaN  \n",
       "2 2017-02-05 11:35:48-08:00   NaN              NaN  \n",
       "3 2017-02-05 11:52:05-08:00   NaN              NaN  \n",
       "4 2017-02-05 11:59:35-08:00   NaN              NaN  "
      ]
     },
     "execution_count": 57,
     "metadata": {},
     "output_type": "execute_result"
    }
   ],
   "source": [
    "laborSheetData.head()"
   ]
  },
  {
   "cell_type": "markdown",
   "metadata": {},
   "source": [
    "## Then - Convert the Column To A Different Timezone Using `tz_convert`"
   ]
  },
  {
   "cell_type": "code",
   "execution_count": 58,
   "metadata": {},
   "outputs": [
    {
     "name": "stderr",
     "output_type": "stream",
     "text": [
      "/Users/williamhenry/anaconda/envs/UCI_python3/lib/python3.6/site-packages/pandas/core/indexing.py:362: FutureWarning: Converting timezone-aware DatetimeArray to timezone-naive ndarray with 'datetime64[ns]' dtype. In the future, this will return an ndarray with 'object' dtype where each element is a 'pandas.Timestamp' with the correct 'tz'.\n",
      "\tTo accept the future behavior, pass 'dtype=object'.\n",
      "\tTo keep the old behavior, pass 'dtype=\"datetime64[ns]\"'.\n",
      "  self.obj[key] = _infer_fill_value(value)\n"
     ]
    }
   ],
   "source": [
    "laborSheetData.loc[:, 'Timestamp_UTC'] = laborSheetData['Timestamp'].dt.tz_convert('UTC')"
   ]
  },
  {
   "cell_type": "code",
   "execution_count": 59,
   "metadata": {},
   "outputs": [
    {
     "data": {
      "text/html": [
       "<div>\n",
       "<style scoped>\n",
       "    .dataframe tbody tr th:only-of-type {\n",
       "        vertical-align: middle;\n",
       "    }\n",
       "\n",
       "    .dataframe tbody tr th {\n",
       "        vertical-align: top;\n",
       "    }\n",
       "\n",
       "    .dataframe thead th {\n",
       "        text-align: right;\n",
       "    }\n",
       "</style>\n",
       "<table border=\"1\" class=\"dataframe\">\n",
       "  <thead>\n",
       "    <tr style=\"text-align: right;\">\n",
       "      <th></th>\n",
       "      <th>Date_Ending_Hour</th>\n",
       "      <th>Store_ID</th>\n",
       "      <th>Manager</th>\n",
       "      <th>Projected_Sales</th>\n",
       "      <th>Sales</th>\n",
       "      <th>DT_TTL</th>\n",
       "      <th>Car_Count</th>\n",
       "      <th>KVS_Total</th>\n",
       "      <th>Scheduled_People</th>\n",
       "      <th>Actual_People</th>\n",
       "      <th>Reason_for_Labor_Diff</th>\n",
       "      <th>Reason_for_High_TTLs</th>\n",
       "      <th>Manager_Entering_Data</th>\n",
       "      <th>Timestamp</th>\n",
       "      <th>OEPE</th>\n",
       "      <th>Park_Percentage</th>\n",
       "      <th>Timestamp_UTC</th>\n",
       "    </tr>\n",
       "  </thead>\n",
       "  <tbody>\n",
       "    <tr>\n",
       "      <th>0</th>\n",
       "      <td>2017-01-23 08:00:00</td>\n",
       "      <td>4462</td>\n",
       "      <td>JillianA</td>\n",
       "      <td>540.0</td>\n",
       "      <td>420.0</td>\n",
       "      <td>170.0</td>\n",
       "      <td>NaN</td>\n",
       "      <td>100.0</td>\n",
       "      <td>NaN</td>\n",
       "      <td>NaN</td>\n",
       "      <td>NaN</td>\n",
       "      <td>NaN</td>\n",
       "      <td>NaN</td>\n",
       "      <td>2017-01-23 09:52:14-08:00</td>\n",
       "      <td>NaN</td>\n",
       "      <td>NaN</td>\n",
       "      <td>2017-01-23 17:52:14+00:00</td>\n",
       "    </tr>\n",
       "    <tr>\n",
       "      <th>1</th>\n",
       "      <td>2017-02-05 06:00:00</td>\n",
       "      <td>4462</td>\n",
       "      <td>ZoeyD</td>\n",
       "      <td>90.0</td>\n",
       "      <td>155.0</td>\n",
       "      <td>114.0</td>\n",
       "      <td>NaN</td>\n",
       "      <td>78.0</td>\n",
       "      <td>NaN</td>\n",
       "      <td>NaN</td>\n",
       "      <td>NaN</td>\n",
       "      <td>NaN</td>\n",
       "      <td>NaN</td>\n",
       "      <td>2017-02-05 11:30:48-08:00</td>\n",
       "      <td>NaN</td>\n",
       "      <td>NaN</td>\n",
       "      <td>2017-02-05 19:30:48+00:00</td>\n",
       "    </tr>\n",
       "    <tr>\n",
       "      <th>2</th>\n",
       "      <td>2017-02-05 07:00:00</td>\n",
       "      <td>4462</td>\n",
       "      <td>JessicaB</td>\n",
       "      <td>173.0</td>\n",
       "      <td>182.0</td>\n",
       "      <td>106.0</td>\n",
       "      <td>NaN</td>\n",
       "      <td>81.0</td>\n",
       "      <td>NaN</td>\n",
       "      <td>NaN</td>\n",
       "      <td>NaN</td>\n",
       "      <td>NaN</td>\n",
       "      <td>NaN</td>\n",
       "      <td>2017-02-05 11:35:48-08:00</td>\n",
       "      <td>NaN</td>\n",
       "      <td>NaN</td>\n",
       "      <td>2017-02-05 19:35:48+00:00</td>\n",
       "    </tr>\n",
       "    <tr>\n",
       "      <th>3</th>\n",
       "      <td>2017-02-05 08:00:00</td>\n",
       "      <td>4462</td>\n",
       "      <td>JessicaB</td>\n",
       "      <td>333.0</td>\n",
       "      <td>311.0</td>\n",
       "      <td>102.0</td>\n",
       "      <td>NaN</td>\n",
       "      <td>55.0</td>\n",
       "      <td>NaN</td>\n",
       "      <td>NaN</td>\n",
       "      <td>NaN</td>\n",
       "      <td>NaN</td>\n",
       "      <td>NaN</td>\n",
       "      <td>2017-02-05 11:52:05-08:00</td>\n",
       "      <td>NaN</td>\n",
       "      <td>NaN</td>\n",
       "      <td>2017-02-05 19:52:05+00:00</td>\n",
       "    </tr>\n",
       "    <tr>\n",
       "      <th>4</th>\n",
       "      <td>2017-02-05 09:00:00</td>\n",
       "      <td>4462</td>\n",
       "      <td>JessicaB</td>\n",
       "      <td>594.0</td>\n",
       "      <td>598.0</td>\n",
       "      <td>155.0</td>\n",
       "      <td>NaN</td>\n",
       "      <td>106.0</td>\n",
       "      <td>NaN</td>\n",
       "      <td>NaN</td>\n",
       "      <td>NaN</td>\n",
       "      <td>NaN</td>\n",
       "      <td>NaN</td>\n",
       "      <td>2017-02-05 11:59:35-08:00</td>\n",
       "      <td>NaN</td>\n",
       "      <td>NaN</td>\n",
       "      <td>2017-02-05 19:59:35+00:00</td>\n",
       "    </tr>\n",
       "  </tbody>\n",
       "</table>\n",
       "</div>"
      ],
      "text/plain": [
       "     Date_Ending_Hour  Store_ID   Manager  Projected_Sales  Sales  DT_TTL  \\\n",
       "0 2017-01-23 08:00:00      4462  JillianA            540.0  420.0   170.0   \n",
       "1 2017-02-05 06:00:00      4462     ZoeyD             90.0  155.0   114.0   \n",
       "2 2017-02-05 07:00:00      4462  JessicaB            173.0  182.0   106.0   \n",
       "3 2017-02-05 08:00:00      4462  JessicaB            333.0  311.0   102.0   \n",
       "4 2017-02-05 09:00:00      4462  JessicaB            594.0  598.0   155.0   \n",
       "\n",
       "   Car_Count  KVS_Total  Scheduled_People  Actual_People  \\\n",
       "0        NaN      100.0               NaN            NaN   \n",
       "1        NaN       78.0               NaN            NaN   \n",
       "2        NaN       81.0               NaN            NaN   \n",
       "3        NaN       55.0               NaN            NaN   \n",
       "4        NaN      106.0               NaN            NaN   \n",
       "\n",
       "  Reason_for_Labor_Diff Reason_for_High_TTLs Manager_Entering_Data  \\\n",
       "0                   NaN                  NaN                   NaN   \n",
       "1                   NaN                  NaN                   NaN   \n",
       "2                   NaN                  NaN                   NaN   \n",
       "3                   NaN                  NaN                   NaN   \n",
       "4                   NaN                  NaN                   NaN   \n",
       "\n",
       "                  Timestamp  OEPE  Park_Percentage             Timestamp_UTC  \n",
       "0 2017-01-23 09:52:14-08:00   NaN              NaN 2017-01-23 17:52:14+00:00  \n",
       "1 2017-02-05 11:30:48-08:00   NaN              NaN 2017-02-05 19:30:48+00:00  \n",
       "2 2017-02-05 11:35:48-08:00   NaN              NaN 2017-02-05 19:35:48+00:00  \n",
       "3 2017-02-05 11:52:05-08:00   NaN              NaN 2017-02-05 19:52:05+00:00  \n",
       "4 2017-02-05 11:59:35-08:00   NaN              NaN 2017-02-05 19:59:35+00:00  "
      ]
     },
     "execution_count": 59,
     "metadata": {},
     "output_type": "execute_result"
    }
   ],
   "source": [
    "laborSheetData.head()"
   ]
  },
  {
   "cell_type": "markdown",
   "metadata": {},
   "source": [
    "# Extra Material Below\n",
    "\n",
    "Below is material we usual don't cover in the lecture, but you may want to review it after the lecture."
   ]
  },
  {
   "cell_type": "markdown",
   "metadata": {},
   "source": [
    "<a name=date_range></a>\n",
    "# Using .date_range() to create a Datetime index\n",
    "\n",
    "We can easily create a Datetime index by using the .date_range() method. We just need to pass a start date, and end date (or a number of periods) and a frequency (the amount of time between each value in the series of values).  Possible values for freq are:\n",
    "* s (for seconds)\n",
    "* min (for minutes)\n",
    "* H (for hours)\n",
    "* D (for days)\n",
    "* A (for annual, ending on the end of a year)\n",
    "* AS (for annual, ending on the start of a year)\n",
    "* You can also do multiples, i.e. 3H for a step of 3 hours.\n",
    "* You can also use something called a DateOffset object for more custom steps, but that is beyond the scope of this course.\n",
    "\n",
    "Note that, once you create an index, you can use it as a row index or column in a dataframe.\n",
    "\n",
    "The docs for this method are here: <https://pandas.pydata.org/pandas-docs/stable/generated/pandas.date_range.html>\n",
    "\n",
    "Let's look at some examples:"
   ]
  },
  {
   "cell_type": "markdown",
   "metadata": {},
   "source": [
    "#### Create a DatetimeIndex with a start date of 2001-01-01, an end date of 2002-01-01 and a step of 3 hours."
   ]
  },
  {
   "cell_type": "code",
   "execution_count": null,
   "metadata": {},
   "outputs": [],
   "source": [
    "pd.date_range(start='2001-01-01', end='2002-01-01', freq='3H')"
   ]
  },
  {
   "cell_type": "markdown",
   "metadata": {},
   "source": [
    "#### Create a DatetimeIndex with a start date of 2001-01-01 and a  frequency of 1 day that continues for 100 periods."
   ]
  },
  {
   "cell_type": "code",
   "execution_count": null,
   "metadata": {},
   "outputs": [],
   "source": [
    "pd.date_range(start='2001-01-01', periods=100, freq='D')"
   ]
  },
  {
   "cell_type": "markdown",
   "metadata": {},
   "source": [
    "#### Create a DatetimeIndex with a start date of 1970-01-01, that continues for 10 periods, and has an annual frequency - on the first day of each year."
   ]
  },
  {
   "cell_type": "code",
   "execution_count": null,
   "metadata": {},
   "outputs": [],
   "source": [
    "pd.date_range(start='1970-01-01', periods=10, freq='AS')"
   ]
  },
  {
   "cell_type": "markdown",
   "metadata": {},
   "source": [
    "#### Create a DatetimeIndex with a start date of 1970-01-01, that continues for 10 periods, and has an annual frequency - on the last day of each year."
   ]
  },
  {
   "cell_type": "code",
   "execution_count": null,
   "metadata": {},
   "outputs": [],
   "source": [
    "pd.date_range(start='1969-12-31', periods=10, freq='A')"
   ]
  },
  {
   "cell_type": "markdown",
   "metadata": {},
   "source": [
    "#### Create a DatetimeIndex with a start date of 2001-01-01 and a step size of 1 day that continues for 100 steps."
   ]
  },
  {
   "cell_type": "code",
   "execution_count": null,
   "metadata": {},
   "outputs": [],
   "source": [
    "pd.date_range(start='1969-12-31', periods=10, freq='A-AUG')"
   ]
  },
  {
   "cell_type": "markdown",
   "metadata": {},
   "source": [
    "### In Class Exercise:\n",
    "Please add a cell below and create three DatetimeInidices of your choosing."
   ]
  },
  {
   "cell_type": "markdown",
   "metadata": {},
   "source": [
    "## Question or Comments About This Notebook?\n",
    "Feel free to contact me via my LinkedIn: https://www.linkedin.com/in/william-j-henry <br>\n",
    "You can also email me at will@henryanalytics.com <br>"
   ]
  }
 ],
 "metadata": {
  "hide_input": false,
  "kernelspec": {
   "display_name": "Python 3",
   "language": "python",
   "name": "python3"
  },
  "language_info": {
   "codemirror_mode": {
    "name": "ipython",
    "version": 3
   },
   "file_extension": ".py",
   "mimetype": "text/x-python",
   "name": "python",
   "nbconvert_exporter": "python",
   "pygments_lexer": "ipython3",
   "version": "3.6.6"
  }
 },
 "nbformat": 4,
 "nbformat_minor": 2
}
