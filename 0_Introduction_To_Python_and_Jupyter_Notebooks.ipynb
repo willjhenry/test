{
 "cells": [
  {
   "cell_type": "markdown",
   "metadata": {
    "nbpresent": {
     "id": "52335e99-9810-4211-bb3b-c31769964cb3"
    }
   },
   "source": [
    "# Introduction To Python and Jupyter Notebooks\n",
    "## Notebook Outline:\n",
    "    \n",
    "* <a href='#ZenOfPython'>Zen Of Python</a>\n",
    "* <a href='#JupyterBasics'>Jupyter Basics</a>\n",
    "\n",
    "### About your instructor:\n",
    "William Henry is a consulting Data Scientist in the San Diego area. <br>\n",
    "If you have any questions please feel free to reach out to him at will@henryanalytics.com <br>\n",
    "LinkedIn: https://www.linkedin.com/in/william-j-henry"
   ]
  },
  {
   "cell_type": "markdown",
   "metadata": {},
   "source": [
    "<a id=\"ZenOfPython\"></a>\n",
    "# Zen of Python: (Just the first few lines)\n",
    "\n",
    "* Beautiful is better than ugly.\n",
    "* Explicit is better than implicit.\n",
    "* Simple is better than complex.\n",
    "* Complex is better than complicated.\n",
    "* Flat is better than nested.\n",
    "* Sparse is better than dense.\n",
    "* Readability counts.\n"
   ]
  },
  {
   "cell_type": "markdown",
   "metadata": {},
   "source": [
    "# Introduction To Jupyter Notebooks"
   ]
  },
  {
   "cell_type": "markdown",
   "metadata": {},
   "source": [
    "* Jupyter Notebook is a web application that allows you to create and share ‘scientific notebooks’ with interactive, runnable, code\n",
    "\n",
    "* Jupyter notebooks are highly interactive, making exploratory data analysis and learning easy. \n",
    "\n",
    "* Jupyter notebooks are not just for learning - I use Jupyter almost everyday in my work because they allow for fast, easy, productive prototyping."
   ]
  },
  {
   "cell_type": "markdown",
   "metadata": {
    "nbpresent": {
     "id": "469ae456-e5cb-4b87-a685-c3dd8e1e555d"
    }
   },
   "source": [
    "<a id=\"JupyterBasics\"></a>\n",
    "# Jupyter Basics\n",
    "Below we will look at how to use a a Jupyter notebook."
   ]
  },
  {
   "cell_type": "markdown",
   "metadata": {
    "nbpresent": {
     "id": "5a89285e-9f84-41f9-8186-ec8e4a823342"
    }
   },
   "source": [
    "## Introducing cells\n",
    "Double-click in this box, notice how it opens up and you can edit it?  This rectangular box is called a cell. There are three types of cells in a Jupyter notebook: Code, Markdown, and Raw NBConvert.  The first two are the most commonly used, and these are what we will use today."
   ]
  },
  {
   "cell_type": "markdown",
   "metadata": {
    "nbpresent": {
     "id": "7f4fabbf-3f32-48b4-9bba-6e9b9f48ee27"
    }
   },
   "source": [
    "## Creating, deleting, and editing new cells\n",
    "\n",
    "* Note: When I refer to keys that you press, I capitalize them for readability, but you should press the lower case key. If you need to press shift at the same time, I will write it as 'shift-b' (if you needed to press shift and the B key at the same time)\n",
    "\n",
    "To create a new cell press the A key to create a cell above the currently selected one, press the B key to create a cell below.  If you are currently in the edit mode (if you can currently type in the cell) you need to hit the esc key before typing A or B.\n",
    "\n",
    "Once you have created a cell, you can hit the enter key to begin to edit it. For example, hit B and then enter to create a cell below this one and then edit it.\n",
    "\n",
    "If you want to change the code type, you can change it to Markdown type by pressing M, and to Code type by pressing Y. New cells are automatically code type. To create a cell below this one, and change it to Markdown, press B and then M. Remember you can not be in edit mode for these key commands to work.\n",
    "\n",
    "To delete the currently select cell, press D two times in a row. But don't delete this one! You can undo an operation by pressing Z.\n",
    "\n",
    "* Note: Everything we discuss above has a corresponding menu selection. For example to create a new cell you can choose Insert -> Insert Cell Below. But, in this workshop I teach the keyboard shortcuts because they are much easier and faster to use."
   ]
  },
  {
   "cell_type": "markdown",
   "metadata": {},
   "source": [
    "## Executing Cells\n",
    "To execute a cell, press control-enter. You can also press shift-enter to execute a cell and automatically select the next one."
   ]
  },
  {
   "cell_type": "markdown",
   "metadata": {},
   "source": [
    "#### Let's Execute The Code Cell Below!"
   ]
  },
  {
   "cell_type": "code",
   "execution_count": null,
   "metadata": {},
   "outputs": [],
   "source": [
    "2 + 2"
   ]
  },
  {
   "cell_type": "markdown",
   "metadata": {},
   "source": [
    "#### Let's Execute The Markdown Cell Below!"
   ]
  },
  {
   "cell_type": "markdown",
   "metadata": {},
   "source": [
    "Hello"
   ]
  },
  {
   "cell_type": "markdown",
   "metadata": {},
   "source": [
    "# Introduction to Markdown"
   ]
  },
  {
   "cell_type": "markdown",
   "metadata": {},
   "source": [
    "## Markdown Headings\n",
    "\n",
    "Let's create a markdown cell below this. Hit the B key to create the cell below, and then hit enter to go into edit mode. Then, type '# My Heading'. Below that, type '## Subheading'. Below that, type '### Sub-subheading'. Then, hit sift-enter to 'evaluate' the cell."
   ]
  },
  {
   "cell_type": "markdown",
   "metadata": {},
   "source": [
    "###### Heading"
   ]
  },
  {
   "cell_type": "markdown",
   "metadata": {},
   "source": [
    "## Bulleted Lists\n",
    "\n",
    "Type a list using the asterisk-key for points. To create a subpoint, type the table key first and then type an asterisk-key.\n",
    "* point\n",
    "    * subpoint\n",
    "    * subpoint2\n",
    "* my point\n",
    "* my 2nd point\n",
    "    * subpoint\n",
    "* my point 3\n",
    "    * subpoint\n",
    "    \n",
    "* my point 4\n",
    "    * subpoint\n",
    "* point\n",
    "    * point\n"
   ]
  },
  {
   "cell_type": "markdown",
   "metadata": {},
   "source": [
    "## Indentations\n",
    "\n",
    "Regular Text\n",
    "> This is indented and can sometimes be useful for highlight a point, or a quote, or a code block"
   ]
  },
  {
   "cell_type": "markdown",
   "metadata": {},
   "source": [
    "Regular Text\n",
    "\n",
    "> This a note"
   ]
  },
  {
   "cell_type": "markdown",
   "metadata": {},
   "source": [
    "## Monospace\n",
    "This can be used to highlight lines as code, for example, `c = 2 + 2`."
   ]
  },
  {
   "cell_type": "markdown",
   "metadata": {},
   "source": [
    "## Line Breaks\n",
    "You can use the `<br>` tag to force a line break. For example:<br>\n",
    "Line 1<br>Line 2<br><br>Line 3\n",
    "<br>Line 4"
   ]
  },
  {
   "cell_type": "markdown",
   "metadata": {},
   "source": [
    "Line 1\n",
    "\n",
    "Line 2"
   ]
  },
  {
   "cell_type": "markdown",
   "metadata": {},
   "source": [
    "### In Class Exercise:\n",
    "Spend a few minutes making headings, bulleted lists, indents, etc... in this cell."
   ]
  },
  {
   "cell_type": "code",
   "execution_count": null,
   "metadata": {},
   "outputs": [],
   "source": []
  }
 ],
 "metadata": {
  "anaconda-cloud": {},
  "hide_input": false,
  "kernelspec": {
   "display_name": "Python 3",
   "language": "python",
   "name": "python3"
  },
  "language_info": {
   "codemirror_mode": {
    "name": "ipython",
    "version": 3
   },
   "file_extension": ".py",
   "mimetype": "text/x-python",
   "name": "python",
   "nbconvert_exporter": "python",
   "pygments_lexer": "ipython3",
   "version": "3.6.6"
  },
  "nbpresent": {
   "slides": {
    "1eb9c367-bcaf-4e95-8e87-66ca8b929e02": {
     "id": "1eb9c367-bcaf-4e95-8e87-66ca8b929e02",
     "prev": "9fa66828-4543-49c8-b52b-3e0eb72ec7d6",
     "regions": {
      "c8939296-ff76-4813-98ad-ed53e80bdd2f": {
       "attrs": {
        "height": 1,
        "width": 1,
        "x": 0,
        "y": 0
       },
       "id": "c8939296-ff76-4813-98ad-ed53e80bdd2f"
      }
     }
    },
    "3ef0b1c1-2e3b-4f42-b412-60d20b1a6a14": {
     "id": "3ef0b1c1-2e3b-4f42-b412-60d20b1a6a14",
     "prev": "1eb9c367-bcaf-4e95-8e87-66ca8b929e02",
     "regions": {
      "130dd85d-d697-4712-a4ad-4bcb73f8c7b3": {
       "attrs": {
        "height": 1,
        "width": 1,
        "x": 0,
        "y": 0
       },
       "content": {
        "cell": "e37bcd78-51ee-40ac-8d93-08a1cd314042",
        "part": "source"
       },
       "id": "130dd85d-d697-4712-a4ad-4bcb73f8c7b3"
      }
     }
    },
    "9fa66828-4543-49c8-b52b-3e0eb72ec7d6": {
     "id": "9fa66828-4543-49c8-b52b-3e0eb72ec7d6",
     "prev": null,
     "regions": {
      "46b00d61-d0ab-4c22-b9e1-387ad6e33f1d": {
       "attrs": {
        "height": 1,
        "width": 1,
        "x": 0,
        "y": 0
       },
       "content": {
        "cell": "5a89285e-9f84-41f9-8186-ec8e4a823342",
        "part": "source"
       },
       "id": "46b00d61-d0ab-4c22-b9e1-387ad6e33f1d"
      }
     }
    }
   },
   "themes": {}
  }
 },
 "nbformat": 4,
 "nbformat_minor": 2
}
